{
 "cells": [
  {
   "cell_type": "markdown",
   "id": "d6440ae4",
   "metadata": {},
   "source": [
    "1. In Python, what is the difference between a built-in function and a user-defined function? Provide an\n",
    "   example of each."
   ]
  },
  {
   "cell_type": "markdown",
   "id": "ea924aa8",
   "metadata": {},
   "source": [
    "A built-in function is a function that already exists in the language without having to define it.\n",
    "\n",
    "ex: print(), max(), min(), range(), len() etc."
   ]
  },
  {
   "cell_type": "code",
   "execution_count": 1,
   "id": "1a2f04e7",
   "metadata": {},
   "outputs": [
    {
     "name": "stdout",
     "output_type": "stream",
     "text": [
      "hello\n"
     ]
    }
   ],
   "source": [
    "# buitl-in function\n",
    "a=\"hello\"\n",
    "print(a)"
   ]
  },
  {
   "cell_type": "markdown",
   "id": "f32a6ade",
   "metadata": {},
   "source": [
    "A user-defined function is one that is defined in our own code.It is defined using def keyword, followed by the function name,\n",
    "parentheses(), and a colon.we can specify any function iside parameters our function will take."
   ]
  },
  {
   "cell_type": "code",
   "execution_count": 2,
   "id": "275ec03a",
   "metadata": {},
   "outputs": [
    {
     "name": "stdout",
     "output_type": "stream",
     "text": [
      "hello world\n"
     ]
    }
   ],
   "source": [
    "# used-defined function\n",
    "\n",
    "def greet():\n",
    "    print(\"hello world\")\n",
    "    \n",
    "greet()"
   ]
  },
  {
   "cell_type": "markdown",
   "id": "e68a0b66",
   "metadata": {},
   "source": [
    "2. How can you pass arguments to a function in Python? Explain the difference between positional\n",
    "   arguments and keyword arguments."
   ]
  },
  {
   "cell_type": "markdown",
   "id": "ab770f15",
   "metadata": {},
   "source": [
    "Arguments are specified after the function name, inside the parenthese.We can pass as many arguments, by seperating them with\n",
    "a comma.python functions contain two types of aeguments:\n",
    "\n",
    "* keyword arguments (named arguments): Keyword arguments allow you to specify the parameter name and its corresponding value       when calling the function.Keyword arguments are helpful when you have functions with multiple parameters, and you want to know   which value is assigned to each parameter."
   ]
  },
  {
   "cell_type": "code",
   "execution_count": 4,
   "id": "15ff2663",
   "metadata": {},
   "outputs": [
    {
     "name": "stdout",
     "output_type": "stream",
     "text": [
      "my name is alice\n",
      "im 20\n",
      "my name is alice\n",
      "im 20\n"
     ]
    }
   ],
   "source": [
    "def info(name,age):\n",
    "    print(\"my name is\",name)\n",
    "    print(\"im\",age)\n",
    "    \n",
    "info(name=\"alice\" , age=20)\n",
    "info(age=20 , name=\"alice\")"
   ]
  },
  {
   "cell_type": "markdown",
   "id": "a3aaa754",
   "metadata": {},
   "source": [
    "* positional arguments:When you call a function with positional arguments, the values are passed to the function in the same       order as the parameters are defined in the function's parameter list.If the function has multiple parameters, you need to       provide arguments for all parameters in order."
   ]
  },
  {
   "cell_type": "code",
   "execution_count": 5,
   "id": "f4e23835",
   "metadata": {},
   "outputs": [
    {
     "name": "stdout",
     "output_type": "stream",
     "text": [
      "my name is alice\n",
      "im 20\n",
      "my name is 20\n",
      "im alice\n"
     ]
    }
   ],
   "source": [
    "def info(name,age):\n",
    "    print(\"my name is\",name)\n",
    "    print(\"im\",age)\n",
    "    \n",
    "info(\"alice\",20)\n",
    "info(20,\"alice\")\n",
    "    "
   ]
  },
  {
   "cell_type": "markdown",
   "id": "8a40ad86",
   "metadata": {},
   "source": [
    "3. What is the purpose of the return statement in a function? Can a function have multiple return\n",
    "   statements? Explain with an example."
   ]
  },
  {
   "cell_type": "markdown",
   "id": "e4815fb3",
   "metadata": {},
   "source": [
    "The return stops the execution of the function when it is encountered within the function. It returns the value to the      statement where the function is called.\n",
    "\n",
    "A function can have multiple return statements, the one that satisfies the condition will be executed first and the function will exit."
   ]
  },
  {
   "cell_type": "code",
   "execution_count": 6,
   "id": "778f5ba3",
   "metadata": {},
   "outputs": [
    {
     "name": "stdout",
     "output_type": "stream",
     "text": [
      "odd\n"
     ]
    }
   ],
   "source": [
    "def type_of_int(i):\n",
    "    if i%2==0:\n",
    "        return 'even'\n",
    "    else:\n",
    "        return 'odd'\n",
    "    \n",
    "result=type_of_int(7)\n",
    "print(result)"
   ]
  },
  {
   "cell_type": "markdown",
   "id": "e258d7e4",
   "metadata": {},
   "source": [
    "4. What are lambda functions in Python? How are they different from regular functions? Provide an\n",
    "   example where a lambda function can be useful."
   ]
  },
  {
   "cell_type": "markdown",
   "id": "7d2413fc",
   "metadata": {},
   "source": [
    "Lambda functions are small, anonymous functions defined with lambda keyword.They can take any number of arguments but can have only one expression.They can be assigned to variables and can be used like regular functions.\n",
    "\n",
    "The lambda function is defined in a single line of code, whereas the regular function is defined with the def keyword and spans multiple lines.\n",
    "\n",
    "lambda function is used to create simple expressions. For example, expressions that do not include complex structures such as if-else, for-loops, and so on."
   ]
  },
  {
   "cell_type": "code",
   "execution_count": 7,
   "id": "e1587510",
   "metadata": {},
   "outputs": [
    {
     "data": {
      "text/plain": [
       "15"
      ]
     },
     "execution_count": 7,
     "metadata": {},
     "output_type": "execute_result"
    }
   ],
   "source": [
    "n=lambda x,y:x+y\n",
    "n(7,8)"
   ]
  },
  {
   "cell_type": "code",
   "execution_count": 8,
   "id": "c7758030",
   "metadata": {},
   "outputs": [
    {
     "data": {
      "text/plain": [
       "16"
      ]
     },
     "execution_count": 8,
     "metadata": {},
     "output_type": "execute_result"
    }
   ],
   "source": [
    "square = lambda x:x**2\n",
    "square(4)"
   ]
  },
  {
   "cell_type": "markdown",
   "id": "7c516dbd",
   "metadata": {},
   "source": [
    "5. How does the concept of \"scope\" apply to functions in Python? Explain the difference between local\n",
    "   scope and global scope."
   ]
  },
  {
   "cell_type": "markdown",
   "id": "cbe23276",
   "metadata": {},
   "source": [
    "scope of a variable is its lifetime in the program. This means that the scope of a variable is the block of code in the entire program where the variable is declared, used, and can be modified.\n",
    "\n",
    "Variables that are defined inside a function body have a local scope, and those defined outside have a global scope. This means that local variables can be accessed only inside the function in which they are declared, whereas global variables can be accessed throughout the program body by all functions."
   ]
  },
  {
   "cell_type": "markdown",
   "id": "37c4d5f5",
   "metadata": {},
   "source": [
    "6. How can you use the \"return\" statement in a Python function to return multiple values?"
   ]
  },
  {
   "cell_type": "markdown",
   "id": "456916ad",
   "metadata": {},
   "source": [
    "We can return multiple values by bundling those values into a dictionary, tuple, or a list. These data types allow us to store multiple similar values.We can extract individual values from them in your main program. \n",
    "\n",
    "\n",
    "We can return multiple values by simply separating them with commas in the return statement. In Python, comma-separated values are treated as tuples, even without parentheses, unless the syntax requires them. "
   ]
  },
  {
   "cell_type": "code",
   "execution_count": 10,
   "id": "276efcde",
   "metadata": {},
   "outputs": [
    {
     "name": "stdout",
     "output_type": "stream",
     "text": [
      "hello\n",
      "1176\n",
      "[3, 4, 5]\n"
     ]
    }
   ],
   "source": [
    "# returning multiple values using tuples (comma seperated values) \n",
    "\n",
    "def test():\n",
    "    return \"hello\", 1176, [3,4,5]\n",
    "a,b,c=test()\n",
    "\n",
    "print(a) # hello\n",
    "\n",
    "print(b) # 1176\n",
    "\n",
    "print(c) # [3,4,5]"
   ]
  },
  {
   "cell_type": "markdown",
   "id": "a6bfee5b",
   "metadata": {},
   "source": [
    "7. What is the difference between the \"pass by value\" and \"pass by reference\" concepts when it\n",
    "   comes to function arguments in Python?"
   ]
  },
  {
   "cell_type": "markdown",
   "id": "aaf14649",
   "metadata": {},
   "source": [
    "* In pass by value , the argument passed to the function is the copy of of its original object. If we change or update the value   of object inside the function, then original object will not change."
   ]
  },
  {
   "cell_type": "code",
   "execution_count": 13,
   "id": "57a5d224",
   "metadata": {},
   "outputs": [
    {
     "name": "stdout",
     "output_type": "stream",
     "text": [
      "Inside the function: {'key3': (4, 5, 6), 'key4': 5}\n",
      "outside the function: {'key1': 3, 'key2': 'hello'}\n"
     ]
    }
   ],
   "source": [
    "# pass by value\n",
    "\n",
    "person={\"key1\":3,\"key2\":\"hello\"}\n",
    "def info(person):\n",
    "    person={\"key3\":(4,5,6),\"key4\":5}\n",
    "    print(\"Inside the function:\",person)\n",
    "    return\n",
    "\n",
    "info(person)\n",
    "print(\"outside the function:\",person)\n"
   ]
  },
  {
   "cell_type": "markdown",
   "id": "257a8b28",
   "metadata": {},
   "source": [
    "* In pass by reference (also known as call by reference), the argument passed to the function’s parameter is the original         object. If we change the value of object inside the function, the original object will also change."
   ]
  },
  {
   "cell_type": "code",
   "execution_count": 14,
   "id": "67660b66",
   "metadata": {},
   "outputs": [
    {
     "name": "stdout",
     "output_type": "stream",
     "text": [
      "Inside the function: {'key1': 3, 'key2': 'hello', 'key3': (4, 5, 6), 'key4': 5}\n",
      "outside the function: {'key1': 3, 'key2': 'hello', 'key3': (4, 5, 6), 'key4': 5}\n"
     ]
    }
   ],
   "source": [
    "# pass by reference\n",
    "\n",
    "person={\"key1\":3,\"key2\":\"hello\"}\n",
    "def info(person):\n",
    "    new={\"key3\":(4,5,6),\"key4\":5}\n",
    "    person.update(new)\n",
    "    print(\"Inside the function:\",person)\n",
    "    return\n",
    "\n",
    "info(person)\n",
    "print(\"outside the function:\",person)"
   ]
  },
  {
   "cell_type": "markdown",
   "id": "8d08e936",
   "metadata": {},
   "source": [
    "8. Create a function that can intake integer or decimal value and do following operations:\n",
    "\n",
    "   a. Logarithmic function (log x)\n",
    "   \n",
    "   b. Exponential function (exp(x))\n",
    "   \n",
    "   c. Power function with base 2 (2**x)\n",
    "   \n",
    "   d. Square root"
   ]
  },
  {
   "cell_type": "code",
   "execution_count": 32,
   "id": "c5f4ece8",
   "metadata": {},
   "outputs": [
    {
     "name": "stdout",
     "output_type": "stream",
     "text": [
      "enter a value:2\n",
      "log value: 0.6931471805599453\n",
      "exp value: 7.38905609893065\n",
      "power value: 4.0\n",
      "square root: 2.0\n"
     ]
    }
   ],
   "source": [
    "num=int(input(\"enter a value:\"))\n",
    "\n",
    "import math\n",
    "\n",
    "# logarithm function\n",
    "\n",
    "print(\"log value:\",math.log(num))\n",
    "\n",
    "# exponential function\n",
    "\n",
    "print(\"exp value:\",math.exp(num))\n",
    "\n",
    "# power function with base 2\n",
    "\n",
    "print(\"power value:\", math.pow(num,2))\n",
    "\n",
    "# square root \n",
    "\n",
    "print(\"square root:\",math.sqrt(4))\n",
    "\n",
    "\n"
   ]
  },
  {
   "cell_type": "markdown",
   "id": "8eb355f3",
   "metadata": {},
   "source": [
    "9. Create a function that takes a full name as an argument and returns first name and last name."
   ]
  },
  {
   "cell_type": "code",
   "execution_count": 20,
   "id": "32579b41",
   "metadata": {},
   "outputs": [
    {
     "name": "stdout",
     "output_type": "stream",
     "text": [
      "hello! Thomas Edison\n"
     ]
    }
   ],
   "source": [
    "def fullname(first_name,last_name):    \n",
    "    print(\"hello!\",first_name + \" \" + last_name)\n",
    "    \n",
    "fullname(\"Thomas\",\"Edison\")"
   ]
  }
 ],
 "metadata": {
  "kernelspec": {
   "display_name": "Python 3 (ipykernel)",
   "language": "python",
   "name": "python3"
  },
  "language_info": {
   "codemirror_mode": {
    "name": "ipython",
    "version": 3
   },
   "file_extension": ".py",
   "mimetype": "text/x-python",
   "name": "python",
   "nbconvert_exporter": "python",
   "pygments_lexer": "ipython3",
   "version": "3.11.4"
  }
 },
 "nbformat": 4,
 "nbformat_minor": 5
}
