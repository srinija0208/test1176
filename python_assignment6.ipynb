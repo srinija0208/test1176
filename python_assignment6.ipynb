{
 "cells": [
  {
   "cell_type": "markdown",
   "id": "127ef7c2",
   "metadata": {},
   "source": [
    "Q.1. What are keywords in python? Using the keyword library, print all the python keywords."
   ]
  },
  {
   "cell_type": "markdown",
   "id": "33b86470",
   "metadata": {},
   "source": [
    "keywords in python are reserved words that cannot be used as a variable name, function name or any other identifier. "
   ]
  },
  {
   "cell_type": "code",
   "execution_count": 2,
   "id": "73f62610",
   "metadata": {},
   "outputs": [
    {
     "name": "stdout",
     "output_type": "stream",
     "text": [
      "['False', 'None', 'True', 'and', 'as', 'assert', 'async', 'await', 'break', 'class', 'continue', 'def', 'del', 'elif', 'else', 'except', 'finally', 'for', 'from', 'global', 'if', 'import', 'in', 'is', 'lambda', 'nonlocal', 'not', 'or', 'pass', 'raise', 'return', 'try', 'while', 'with', 'yield']\n"
     ]
    }
   ],
   "source": [
    "import keyword\n",
    "print(keyword.kwlist)"
   ]
  },
  {
   "cell_type": "markdown",
   "id": "d413c49a",
   "metadata": {},
   "source": [
    "Q.2. What are the rules to create variables in python?"
   ]
  },
  {
   "cell_type": "markdown",
   "id": "7c18da58",
   "metadata": {},
   "source": [
    "variable is a named placeholder to hold any type of data which the program can use to assign a value by using equals to (=)\n",
    "\n",
    "Rules to create varaiable in python are:\n",
    "\n",
    "1. variable names can consist both uppere and lower case letters , underscores and digits.\n",
    "2. variable name cannot start with a digit.\n",
    "3. python keywords are not allowed to use as variable names.\n",
    "4. variable names are case-sensitive i.e. age ,Age and AGE are different variables."
   ]
  },
  {
   "cell_type": "markdown",
   "id": "e76ee5aa",
   "metadata": {},
   "source": [
    "Q.3. What are the standards and conventions followed for the nomenclature of variables in\n",
    "python to improve code readability and maintainability?"
   ]
  },
  {
   "cell_type": "markdown",
   "id": "ea12e9e0",
   "metadata": {},
   "source": [
    "* use grammatical correct variable names.\n",
    "* the class name should start with an uppercase and must follow camelCase convention if more than two words are to be used.\n",
    "* a function name should be joined with an underscore, and it must be lowercase.\n",
    "* package and module names should be all lower case.\n",
    "* underscores can be used in the modules only it improves code readability.\n",
    "* Class names should follow the UpperCaseCamelCase convention.\n",
    "* instance variable names should be all lower case.\n",
    "* use underscores to add new words to instances variables.\n"
   ]
  },
  {
   "cell_type": "markdown",
   "id": "ee2cd1f7",
   "metadata": {},
   "source": [
    "Q.4. What will happen if a keyword is used as a variable name?"
   ]
  },
  {
   "cell_type": "markdown",
   "id": "99a3d2c9",
   "metadata": {},
   "source": [
    "keywords are used to define the syntax and structure of python language.\n",
    "\n",
    "If keywords were used as variable names , it would be hard to tell for the developers and compilers  whether something was a\n",
    "variable or a keyword."
   ]
  },
  {
   "cell_type": "markdown",
   "id": "0a597d8a",
   "metadata": {},
   "source": [
    "Q.5. For what purpose def keyword is used?"
   ]
  },
  {
   "cell_type": "markdown",
   "id": "85af61b7",
   "metadata": {},
   "source": [
    "python def keyword is used to define a function, it is placed before a function name that is provided by the user to create \n",
    "used-defined function.\n",
    "\n"
   ]
  },
  {
   "cell_type": "markdown",
   "id": "20238d75",
   "metadata": {},
   "source": [
    "Q.6. What is the operation of this special character ‘\\’?"
   ]
  },
  {
   "cell_type": "markdown",
   "id": "6efdca5b",
   "metadata": {},
   "source": [
    "In Python strings, the backslash \"\\\" is a special character, also called the \"escape\" character. It is used in representing certain whitespace characters: \"\\t\" is a tab, \"\\n\" is a newline, and \"\\r\" is a carriage return.\n",
    " \t"
   ]
  },
  {
   "cell_type": "code",
   "execution_count": 4,
   "id": "c94ba165",
   "metadata": {},
   "outputs": [
    {
     "name": "stdout",
     "output_type": "stream",
     "text": [
      "apple\torange\n",
      "apple\n",
      "orange\n"
     ]
    }
   ],
   "source": [
    "print('apple\\torange')\n",
    "\n",
    "print('apple\\norange')"
   ]
  },
  {
   "cell_type": "code",
   "execution_count": 5,
   "id": "ccc5bdb4",
   "metadata": {},
   "outputs": [
    {
     "name": "stdout",
     "output_type": "stream",
     "text": [
      "it's raining\n"
     ]
    }
   ],
   "source": [
    "# Conversely, prefixing a special character with \"\\\" turns it into an ordinary character. This is called \"escaping\". \n",
    "\n",
    "print('it\\'s raining')"
   ]
  },
  {
   "cell_type": "markdown",
   "id": "ae8deebe",
   "metadata": {},
   "source": [
    "Q.7. Give an example of the following conditions:\n",
    "\n",
    "(i) Homogeneous list\n",
    "\n",
    "(ii) Heterogeneous set\n",
    "\n",
    "(iii) Homogeneous tuple"
   ]
  },
  {
   "cell_type": "markdown",
   "id": "307d6bf5",
   "metadata": {},
   "source": [
    "* homogeneous list means that it only contains a single type of data i.e. all the items are either integer or all float or\n",
    "  all string.\n",
    "  \n",
    "  l=[3,4,5]\n",
    "     \n",
    "* heterogeneous set is that it can store any type of data i.e. it can be a string , integer or a float.\n",
    "\n",
    "  s={'hello',3,7.0}\n",
    "\n",
    "* homogeneous tuple means that it can store data of single type i.e. all the elements are either string,integeror a float.\n",
    "\n",
    "  t=('hi','python','oops')"
   ]
  },
  {
   "cell_type": "markdown",
   "id": "3c5f2b94",
   "metadata": {},
   "source": [
    "Q.8. Explain the mutable and immutable data types with proper explanation & examples."
   ]
  },
  {
   "cell_type": "markdown",
   "id": "a3301448",
   "metadata": {},
   "source": [
    "* mutable: in which elements can be modified after they have been created.list,set and dict are mutable.\n",
    "    \n",
    "  \n",
    "* immutable: in which data cannot be modified after they have been created.tuples,integers and strings are immutable.\n",
    "    \n"
   ]
  },
  {
   "cell_type": "code",
   "execution_count": 7,
   "id": "7adf0821",
   "metadata": {},
   "outputs": [
    {
     "data": {
      "text/plain": [
       "[4, 6, 8]"
      ]
     },
     "execution_count": 7,
     "metadata": {},
     "output_type": "execute_result"
    }
   ],
   "source": [
    "# mutable \n",
    "l=[4,6,8,'hello']\n",
    "l.remove('hello')\n",
    "l"
   ]
  },
  {
   "cell_type": "code",
   "execution_count": 13,
   "id": "bdd97318",
   "metadata": {},
   "outputs": [
    {
     "ename": "TypeError",
     "evalue": "'tuple' object does not support item assignment",
     "output_type": "error",
     "traceback": [
      "\u001b[1;31m---------------------------------------------------------------------------\u001b[0m",
      "\u001b[1;31mTypeError\u001b[0m                                 Traceback (most recent call last)",
      "Cell \u001b[1;32mIn[13], line 3\u001b[0m\n\u001b[0;32m      1\u001b[0m \u001b[38;5;66;03m# immutable\u001b[39;00m\n\u001b[0;32m      2\u001b[0m tup\u001b[38;5;241m=\u001b[39m(\u001b[38;5;241m3\u001b[39m,\u001b[38;5;241m4\u001b[39m,\u001b[38;5;241m5\u001b[39m,\u001b[38;5;124m'\u001b[39m\u001b[38;5;124mhello\u001b[39m\u001b[38;5;124m'\u001b[39m)\n\u001b[1;32m----> 3\u001b[0m tup[\u001b[38;5;241m3\u001b[39m]\u001b[38;5;241m=\u001b[39m\u001b[38;5;124m'\u001b[39m\u001b[38;5;124mhi\u001b[39m\u001b[38;5;124m'\u001b[39m\n\u001b[0;32m      4\u001b[0m \u001b[38;5;28mprint\u001b[39m(tup)\n",
      "\u001b[1;31mTypeError\u001b[0m: 'tuple' object does not support item assignment"
     ]
    }
   ],
   "source": [
    "# immutable\n",
    "tup=(3,4,5,'hello')\n",
    "tup[3]='hi'\n",
    "print(tup)"
   ]
  },
  {
   "cell_type": "markdown",
   "id": "909a31cb",
   "metadata": {},
   "source": [
    "Q.9. Write a code to create the given structure using only for loop.\n",
    "\n",
    "             *\n",
    "             \n",
    "            ***\n",
    "            \n",
    "           *****\n",
    "           \n",
    "          *******\n",
    "          \n",
    "         ********* "
   ]
  },
  {
   "cell_type": "code",
   "execution_count": 8,
   "id": "4c44b36c",
   "metadata": {},
   "outputs": [
    {
     "name": "stdout",
     "output_type": "stream",
     "text": [
      "      *\n",
      "     ***\n",
      "    *****\n",
      "   *******\n",
      "  *********\n"
     ]
    }
   ],
   "source": [
    "n=6\n",
    "for i in range(n-1):\n",
    "    for j in range(i,n):\n",
    "        print(\" \",end=\"\")\n",
    "    for j in range(i):\n",
    "        print(\"*\",end=\"\")\n",
    "    for j in range(i+1):\n",
    "        print(\"*\",end=\"\")\n",
    "    print()"
   ]
  },
  {
   "cell_type": "markdown",
   "id": "98b41c03",
   "metadata": {},
   "source": [
    "Q.10. Write a code to create the given structure using while loop.\n",
    "\n",
    "      |||||||||\n",
    "      \n",
    "       |||||||\n",
    "       \n",
    "        |||||\n",
    "        \n",
    "         |||\n",
    "         \n",
    "          |"
   ]
  },
  {
   "cell_type": "markdown",
   "id": "b7805431",
   "metadata": {},
   "source": [
    "<!-- Q.10. Write a code to create the given structure using while loop.\n",
    "\n",
    "         |||||||||\n",
    "   \n",
    "          |||||||\n",
    "    \n",
    "           |||||\n",
    "     \n",
    "            |||\n",
    "      \n",
    "             |  -->"
   ]
  },
  {
   "cell_type": "code",
   "execution_count": 4,
   "id": "4fef0b88",
   "metadata": {},
   "outputs": [
    {
     "name": "stdout",
     "output_type": "stream",
     "text": [
      "Enter no of rows:5\n",
      "  | | | | |\n",
      "   | | | |\n",
      "    | | |\n",
      "     | |\n",
      "      |\n"
     ]
    }
   ],
   "source": [
    "rows=int(input('Enter no of rows:'))\n",
    "i=rows\n",
    "while(i>=1):\n",
    "    j=0\n",
    "    while(j<=rows-i):\n",
    "        print(\" \",end=\"\")\n",
    "        j=j+1\n",
    "    k=0\n",
    "    while(k<i):\n",
    "        print(\" |\",end=\"\")\n",
    "        k=k+1\n",
    "    i=i-1\n",
    "    print()"
   ]
  },
  {
   "cell_type": "code",
   "execution_count": 1,
   "id": "43783302",
   "metadata": {},
   "outputs": [
    {
     "name": "stdout",
     "output_type": "stream",
     "text": [
      "  | | | | | | | | | \n",
      "    | | | | | | | \n",
      "      | | | | | \n",
      "        | | | \n",
      "          | \n"
     ]
    }
   ],
   "source": [
    "n=5\n",
    "for i in range(n):\n",
    "    for j in range(i+1):\n",
    "        print(\" \", end=\" \")\n",
    "    for j in range(i,n-1):\n",
    "        print(\"|\",end=\" \")\n",
    "    for j in range(i,n):\n",
    "        print(\"|\",end=\" \")\n",
    "    print()"
   ]
  },
  {
   "cell_type": "code",
   "execution_count": null,
   "id": "65be28e0",
   "metadata": {},
   "outputs": [],
   "source": []
  }
 ],
 "metadata": {
  "kernelspec": {
   "display_name": "Python 3 (ipykernel)",
   "language": "python",
   "name": "python3"
  },
  "language_info": {
   "codemirror_mode": {
    "name": "ipython",
    "version": 3
   },
   "file_extension": ".py",
   "mimetype": "text/x-python",
   "name": "python",
   "nbconvert_exporter": "python",
   "pygments_lexer": "ipython3",
   "version": "3.11.4"
  }
 },
 "nbformat": 4,
 "nbformat_minor": 5
}
