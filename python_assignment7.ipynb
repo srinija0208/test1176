{
 "cells": [
  {
   "cell_type": "markdown",
   "id": "4f6482af",
   "metadata": {},
   "source": [
    "Q.1. Create two int type variables, apply addition, subtraction, division and multiplications\n",
    "and store the results in variables. Then print the data in the following format by calling the\n",
    "variables:"
   ]
  },
  {
   "cell_type": "markdown",
   "id": "e31f11fc",
   "metadata": {},
   "source": [
    "First variable is __ & second variable is __.\n",
    "\n",
    "Addition: __ + __ = __\n",
    "\n",
    "Subtraction: __ - __ = __\n",
    "\n",
    "Multiplication: __ * __ = __\n",
    "\n",
    "Division: __ / __ = __\n"
   ]
  },
  {
   "cell_type": "code",
   "execution_count": 7,
   "id": "e8a5ec79",
   "metadata": {},
   "outputs": [
    {
     "name": "stdout",
     "output_type": "stream",
     "text": [
      "first variable is: 5\n",
      "second variable is: 10\n",
      "addition: 5 + 10 = 15\n",
      "subtraction: 5 - 10 = -5\n",
      "multiplication: 5 * 10 = 50\n",
      "division: 5 / 10 = 0.5\n"
     ]
    }
   ],
   "source": [
    "num1=5\n",
    "num2=10\n",
    "print(\"first variable is:\",num1)\n",
    "print(\"second variable is:\",num2)\n",
    "\n",
    "print(\"addition:\",num1,\"+\",num2,\"=\",num1+num2)\n",
    "print(\"subtraction:\",num1,\"-\",num2,\"=\",num1-num2)\n",
    "print(\"multiplication:\",num1,\"*\",num2,\"=\",num1*num2)\n",
    "print(\"division:\",num1,\"/\",num2,\"=\",num1/num2)"
   ]
  },
  {
   "cell_type": "markdown",
   "id": "7cb1f50d",
   "metadata": {},
   "source": [
    "Q.2. What is the difference between the following operators:\n",
    "    \n",
    "(i) ‘/’ & ‘//’\n",
    "\n",
    "(ii) ‘**’ & ‘^’"
   ]
  },
  {
   "cell_type": "markdown",
   "id": "14d90cff",
   "metadata": {},
   "source": [
    "* The method of divison '/' is considered as classic division.The output of this operator is always a quotient with float\n",
    "    data type even if the input values are integers.\n",
    "    \n",
    "*  The method of '//' is considered as floor division.The output of this operator is a quotient rounded off with a closest\n",
    "   whole number."
   ]
  },
  {
   "cell_type": "code",
   "execution_count": 13,
   "id": "83f2f549",
   "metadata": {},
   "outputs": [
    {
     "name": "stdout",
     "output_type": "stream",
     "text": [
      "2.6666666666666665\n"
     ]
    }
   ],
   "source": [
    "# classic division \"/\"\n",
    "a=8\n",
    "b=3\n",
    "print(a/b)"
   ]
  },
  {
   "cell_type": "code",
   "execution_count": 12,
   "id": "f0d10ece",
   "metadata": {},
   "outputs": [
    {
     "name": "stdout",
     "output_type": "stream",
     "text": [
      "2\n"
     ]
    }
   ],
   "source": [
    "# floor division \"//\"\n",
    "a=8\n",
    "b=3\n",
    "print(a//b)"
   ]
  },
  {
   "cell_type": "markdown",
   "id": "785f08fd",
   "metadata": {},
   "source": [
    "* The arithmetic operator '**' is considered as power operator.\n",
    "\n",
    "* The bitwise operator '^' is considered as XOR operator which compares each bit of the first operand with the corresponding \n",
    "  bit of the second operand.If one of the bits is 1(but not both),the corresponding result bit is said to 1.Otherwise,the result\n",
    "  bit is set to 0."
   ]
  },
  {
   "cell_type": "code",
   "execution_count": 14,
   "id": "cecf512b",
   "metadata": {},
   "outputs": [
    {
     "name": "stdout",
     "output_type": "stream",
     "text": [
      "16\n"
     ]
    }
   ],
   "source": [
    "# power operator '**'\n",
    "a=2\n",
    "b=4\n",
    "print(a**b)"
   ]
  },
  {
   "cell_type": "code",
   "execution_count": 15,
   "id": "594392a0",
   "metadata": {},
   "outputs": [
    {
     "name": "stdout",
     "output_type": "stream",
     "text": [
      "14\n"
     ]
    }
   ],
   "source": [
    "# XOR operator '^'\n",
    "a=10\n",
    "b=4\n",
    "print(a^b)"
   ]
  },
  {
   "cell_type": "markdown",
   "id": "ba99c761",
   "metadata": {},
   "source": [
    "Q.3. List the logical operators."
   ]
  },
  {
   "cell_type": "markdown",
   "id": "45c0dd9c",
   "metadata": {},
   "source": [
    "* AND: the result is True when both operands are True.\n",
    "* OR: the result is True when any one of both operand is True.\n",
    "* NOT: reverses the operand state."
   ]
  },
  {
   "cell_type": "code",
   "execution_count": 16,
   "id": "ad4bed8a",
   "metadata": {},
   "outputs": [
    {
     "name": "stdout",
     "output_type": "stream",
     "text": [
      "False\n",
      "True\n",
      "False\n"
     ]
    }
   ],
   "source": [
    "a=True\n",
    "b=False\n",
    "print(a and b)\n",
    "print(a or b)\n",
    "print(not a)"
   ]
  },
  {
   "cell_type": "markdown",
   "id": "56fc39da",
   "metadata": {},
   "source": [
    "Q.4. Explain right shift operator and left shift operator with examples."
   ]
  },
  {
   "cell_type": "markdown",
   "id": "bf62ad2e",
   "metadata": {},
   "source": [
    "* right shift operator >> : Shifts the bits of the number to the right by the number of bits specified. Each shift to the right   corresponds to dividing the number by 2.\n",
    "\n",
    "* left shift operator << : Shifts the bits of the number to the left by the number of bits specified. Each shift to the left       corresponds to multiplying the number by 2."
   ]
  },
  {
   "cell_type": "code",
   "execution_count": 23,
   "id": "b59b6efd",
   "metadata": {},
   "outputs": [
    {
     "name": "stdout",
     "output_type": "stream",
     "text": [
      "5\n",
      "2\n"
     ]
    }
   ],
   "source": [
    "# right shift >>\n",
    "\n",
    "a=20\n",
    "print(a>>2)\n",
    "\n",
    "b=10\n",
    "print(b>>2)"
   ]
  },
  {
   "cell_type": "code",
   "execution_count": 24,
   "id": "ffdc5632",
   "metadata": {},
   "outputs": [
    {
     "name": "stdout",
     "output_type": "stream",
     "text": [
      "80\n",
      "40\n"
     ]
    }
   ],
   "source": [
    "# left shift <<\n",
    "\n",
    "a=20\n",
    "print(a<<2)\n",
    "\n",
    "b=10\n",
    "print(b<<2)"
   ]
  },
  {
   "cell_type": "markdown",
   "id": "c51566de",
   "metadata": {},
   "source": [
    "Q.5. Create a list containing int type data of length 15. Then write a code to check if 10 is\n",
    "present in the list or not."
   ]
  },
  {
   "cell_type": "code",
   "execution_count": 17,
   "id": "f632cf41",
   "metadata": {},
   "outputs": [
    {
     "data": {
      "text/plain": [
       "True"
      ]
     },
     "execution_count": 17,
     "metadata": {},
     "output_type": "execute_result"
    }
   ],
   "source": [
    "l1=[3,4,5,7,1,8,9,0,12,34,56,10,24,36,46]\n",
    "10 in l1"
   ]
  }
 ],
 "metadata": {
  "kernelspec": {
   "display_name": "Python 3 (ipykernel)",
   "language": "python",
   "name": "python3"
  },
  "language_info": {
   "codemirror_mode": {
    "name": "ipython",
    "version": 3
   },
   "file_extension": ".py",
   "mimetype": "text/x-python",
   "name": "python",
   "nbconvert_exporter": "python",
   "pygments_lexer": "ipython3",
   "version": "3.11.4"
  }
 },
 "nbformat": 4,
 "nbformat_minor": 5
}
