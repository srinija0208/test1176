{
 "cells": [
  {
   "cell_type": "markdown",
   "id": "8ffaa3a9",
   "metadata": {},
   "source": [
    "1. What is a lambda function in Python, and how does it differ from a regular function?"
   ]
  },
  {
   "cell_type": "markdown",
   "id": "267cd44a",
   "metadata": {},
   "source": [
    "Lambda functions are small, anonymous functions defined with lambda keyword.They can take any number of arguments but can have only one expression.lambda function is used to create simple expressions that do not have complex structures like if-else,for loop, etc.\n",
    "\n",
    "The lambda function is defined in a single line of code, whereas the regular function is defined with the def keyword and spans multiple lines."
   ]
  },
  {
   "cell_type": "code",
   "execution_count": 1,
   "id": "db0faf66",
   "metadata": {},
   "outputs": [
    {
     "data": {
      "text/plain": [
       "11"
      ]
     },
     "execution_count": 1,
     "metadata": {},
     "output_type": "execute_result"
    }
   ],
   "source": [
    "n = lambda x,y:x+y\n",
    "n(5,6)"
   ]
  },
  {
   "cell_type": "markdown",
   "id": "a02e9300",
   "metadata": {},
   "source": [
    "2. Can a lambda function in Python have multiple arguments? If yes, how can you define and use\n",
    "   them?"
   ]
  },
  {
   "cell_type": "markdown",
   "id": "4ccabf51",
   "metadata": {},
   "source": [
    "A lambda function can take any number of arguments, but can only have one expression.These arguments are used in evaluating an\n",
    "expression to return a single value."
   ]
  },
  {
   "cell_type": "code",
   "execution_count": 2,
   "id": "3676b156",
   "metadata": {},
   "outputs": [
    {
     "data": {
      "text/plain": [
       "25"
      ]
     },
     "execution_count": 2,
     "metadata": {},
     "output_type": "execute_result"
    }
   ],
   "source": [
    "# lambda function with single argument\n",
    "\n",
    "square = lambda x:x*x\n",
    "square(5)"
   ]
  },
  {
   "cell_type": "code",
   "execution_count": 3,
   "id": "cdee41e3",
   "metadata": {},
   "outputs": [
    {
     "data": {
      "text/plain": [
       "24"
      ]
     },
     "execution_count": 3,
     "metadata": {},
     "output_type": "execute_result"
    }
   ],
   "source": [
    "# lambda function with multiple arguments\n",
    "\n",
    "n = lambda a,b,c:a*b*c\n",
    "n(2,3,4)"
   ]
  },
  {
   "cell_type": "markdown",
   "id": "3610ebef",
   "metadata": {},
   "source": [
    "3. How are lambda functions typically used in Python? Provide an example use case."
   ]
  },
  {
   "cell_type": "markdown",
   "id": "602ca71c",
   "metadata": {},
   "source": [
    "Lambda functions are nameless functions, we generally use lambda functions as an argument to write higher-order functions i.e.\n",
    "a function that takes in other functions as arguments.\n",
    "\n",
    "for example: these can be used together with built-in functions like map(),filter(),reduce()."
   ]
  },
  {
   "cell_type": "code",
   "execution_count": 4,
   "id": "6e812ddb",
   "metadata": {},
   "outputs": [
    {
     "name": "stdout",
     "output_type": "stream",
     "text": [
      "[2, 4, 6, 8, 22]\n"
     ]
    }
   ],
   "source": [
    "# lambda function inside filter function\n",
    "\n",
    "my_list = [2,4,3,5,6,7,8,13,25,57,22]\n",
    "new_list = list(filter( lambda x: (x%2==0),my_list))\n",
    "print(new_list)\n",
    "                "
   ]
  },
  {
   "cell_type": "code",
   "execution_count": 10,
   "id": "e11b7b68",
   "metadata": {},
   "outputs": [
    {
     "name": "stdout",
     "output_type": "stream",
     "text": [
      "[4, 9, 16, 25, 36, 49, 64]\n"
     ]
    }
   ],
   "source": [
    "# lambda function inside map function\n",
    "\n",
    "my_list = [2,3,4,5,6,7,8]\n",
    "new_list = list(map( lambda x: x*x,my_list))\n",
    "print(new_list)"
   ]
  },
  {
   "cell_type": "code",
   "execution_count": 21,
   "id": "f207444d",
   "metadata": {},
   "outputs": [
    {
     "name": "stdout",
     "output_type": "stream",
     "text": [
      "27\n"
     ]
    }
   ],
   "source": [
    "# lambda function inside reduce function\n",
    "\n",
    "from functools import reduce\n",
    "\n",
    "my_list = [2,3,4,5,6,7]\n",
    "new_list = reduce((lambda x,y:x+y),my_list)\n",
    "print(new_list)"
   ]
  },
  {
   "cell_type": "markdown",
   "id": "2c46f891",
   "metadata": {},
   "source": [
    "4. What are the advantages and limitations of lambda functions compared to regular functions in\n",
    "   Python?"
   ]
  },
  {
   "cell_type": "markdown",
   "id": "1423649d",
   "metadata": {},
   "source": [
    "Advantages :\n",
    "\n",
    "* It can be invoked as soon as it is defined\n",
    "* It can only have a single line of code within them.\n",
    "* It can take any number of functions but, unlike regular functions , returns only one exprssion.\n",
    "* It can be passed as a parameter to a higher-order function like filter(),map() and reduce().\n",
    "\n",
    "Limitations :\n",
    "\n",
    "* It cannot perform multiple expressions.\n",
    "* Lambda functions cannot have a docstring.\n",
    "* It cannot be used with expressions that include complex strucures like if-elif,for loop and so on.\n",
    "* It cannot contain variable assignments.(ex: lambda a:a=1 will throw a syntax error)\n"
   ]
  },
  {
   "cell_type": "markdown",
   "id": "11c27d4f",
   "metadata": {},
   "source": [
    "5. Are lambda functions in Python able to access variables defined outside of their own scope?\n",
    "   Explain with an example."
   ]
  },
  {
   "cell_type": "markdown",
   "id": "414137ce",
   "metadata": {},
   "source": [
    "Lambda functions have their own namespace and cannot access variables other than those in their parameter list and those in the global namespace.\n",
    "\n",
    "A lambda expression introduces a new local scope for the function it creates. Lambdas can see all the variables that live in the \n",
    "functions where they are coded."
   ]
  },
  {
   "cell_type": "code",
   "execution_count": 6,
   "id": "7198fb89",
   "metadata": {},
   "outputs": [
    {
     "name": "stdout",
     "output_type": "stream",
     "text": [
      "36\n"
     ]
    }
   ],
   "source": [
    "def display():\n",
    "    x=6\n",
    "    result = lambda n: x**n\n",
    "    return result\n",
    "\n",
    "x = display()\n",
    "print(x(2))"
   ]
  },
  {
   "cell_type": "markdown",
   "id": "e0ee732b",
   "metadata": {},
   "source": [
    "6. Write a lambda function to calculate the square of a given number."
   ]
  },
  {
   "cell_type": "code",
   "execution_count": 4,
   "id": "b7641be7",
   "metadata": {},
   "outputs": [
    {
     "name": "stdout",
     "output_type": "stream",
     "text": [
      "square of each number in the given list is: [4, 9, 16, 25, 36, 49, 64, 81]\n"
     ]
    }
   ],
   "source": [
    "# square of numbers\n",
    "\n",
    "my_list = [2,3,4,5,6,7,8,9]\n",
    "squared_list = list(map( lambda x:x**2, my_list))\n",
    "\n",
    "print(\"square of each number in the given list is:\",squared_list)"
   ]
  },
  {
   "cell_type": "markdown",
   "id": "b103362b",
   "metadata": {},
   "source": [
    "7. Create a lambda function to find the maximum value in a list of integers."
   ]
  },
  {
   "cell_type": "code",
   "execution_count": 5,
   "id": "ea13d6bb",
   "metadata": {},
   "outputs": [
    {
     "name": "stdout",
     "output_type": "stream",
     "text": [
      "maximum value in a list of integers is: 90\n"
     ]
    }
   ],
   "source": [
    "# max value in a list of integers\n",
    "\n",
    "from functools import reduce\n",
    "\n",
    "my_list = [56,78,90,23,44,52,89,20]\n",
    "max_list = reduce(lambda x,y:x if x>y else y, my_list)\n",
    "\n",
    "print(\"maximum value in a list of integers is:\", max_list)"
   ]
  },
  {
   "cell_type": "markdown",
   "id": "80e39343",
   "metadata": {},
   "source": [
    "8. Implement a lambda function to filter out all the even numbers from a list of integers."
   ]
  },
  {
   "cell_type": "code",
   "execution_count": 6,
   "id": "b5ed2baf",
   "metadata": {},
   "outputs": [
    {
     "name": "stdout",
     "output_type": "stream",
     "text": [
      "[56, 78, 12, 10, 24]\n"
     ]
    }
   ],
   "source": [
    "# even no.from a list of integers\n",
    "\n",
    "my_list = [23,56,78,12,15,10,24,7]\n",
    "even_list = list(filter( lambda x:(x%2==0), my_list))\n",
    "\n",
    "print(even_list)"
   ]
  },
  {
   "cell_type": "markdown",
   "id": "4acc00ac",
   "metadata": {},
   "source": [
    "9. Write a lambda function to sort a list of strings in ascending order based on the length of each\n",
    "   string."
   ]
  },
  {
   "cell_type": "code",
   "execution_count": 8,
   "id": "a55c928f",
   "metadata": {},
   "outputs": [
    {
     "name": "stdout",
     "output_type": "stream",
     "text": [
      "['data', 'hello', 'coding', 'ineuron', 'notebook']\n"
     ]
    }
   ],
   "source": [
    "my_list = [\"coding\", \"ineuron\", \"data\", \"notebook\", \"hello\"]\n",
    "my_list.sort(key=lambda x: len(x))\n",
    "\n",
    "print(my_list)"
   ]
  },
  {
   "cell_type": "markdown",
   "id": "58da6313",
   "metadata": {},
   "source": [
    "10. Create a lambda function that takes two lists as input and returns a new list containing the\n",
    "    common elements between the two lists."
   ]
  },
  {
   "cell_type": "code",
   "execution_count": 10,
   "id": "98126feb",
   "metadata": {},
   "outputs": [
    {
     "name": "stdout",
     "output_type": "stream",
     "text": [
      "intersection of list1 and list1: ['hello', 5, 8, 1, 4]\n"
     ]
    }
   ],
   "source": [
    "list1 = [3,5,7,\"hello\",4,1,6,\"python\",8]\n",
    "list2 = [\"hello\",5,8,1,0,2,\"hi\",\"code\",4]\n",
    "\n",
    "result = list(filter( lambda x:x in list1,list2))\n",
    "print(\"intersection of list1 and list1:\", result)"
   ]
  },
  {
   "cell_type": "markdown",
   "id": "21ee9d03",
   "metadata": {},
   "source": [
    "11. Write a recursive function to calculate the factorial of a given positive integer."
   ]
  },
  {
   "cell_type": "code",
   "execution_count": 5,
   "id": "31c7a7d3",
   "metadata": {},
   "outputs": [
    {
     "name": "stdout",
     "output_type": "stream",
     "text": [
      "Enter a number: 5\n",
      "factorial of  5 is 120\n"
     ]
    }
   ],
   "source": [
    "# recursive function to calculate the factorial of a given positive integer\n",
    "\n",
    "def recursive_factorial(n):\n",
    "    if n==1:\n",
    "        return n\n",
    "    else:\n",
    "        return n * recursive_factorial(n-1)\n",
    "\n",
    "number = int(input(\"Enter a number: \"))\n",
    "\n",
    "print(\"factorial of \",number,\"is\", recursive_factorial(number))"
   ]
  },
  {
   "cell_type": "markdown",
   "id": "282efb3b",
   "metadata": {},
   "source": [
    "12. Implement a recursive function to compute the nth Fibonacci number."
   ]
  },
  {
   "cell_type": "code",
   "execution_count": 9,
   "id": "3556dbb1",
   "metadata": {},
   "outputs": [
    {
     "name": "stdout",
     "output_type": "stream",
     "text": [
      "0\n",
      "1\n",
      "1\n",
      "2\n",
      "3\n",
      "5\n",
      "8\n",
      "13\n",
      "21\n",
      "34\n"
     ]
    }
   ],
   "source": [
    "def my_fibonacci(n):\n",
    "    a,b=0,1\n",
    "    for i in range(n):\n",
    "        print(a)\n",
    "        a,b=b , a+b\n",
    "        \n",
    "my_fibonacci(10)"
   ]
  },
  {
   "cell_type": "markdown",
   "id": "a8712441",
   "metadata": {},
   "source": [
    "13. Create a recursive function to find the sum of all the elements in a given list."
   ]
  },
  {
   "cell_type": "code",
   "execution_count": 5,
   "id": "dcf07659",
   "metadata": {},
   "outputs": [
    {
     "data": {
      "text/plain": [
       "27"
      ]
     },
     "execution_count": 5,
     "metadata": {},
     "output_type": "execute_result"
    }
   ],
   "source": [
    "def recursive_sum(n):\n",
    "    if len(n)==0:\n",
    "        return 0\n",
    "    else:\n",
    "        return n[0] + recursive_sum(n[1:])\n",
    "    \n",
    "recursive_sum([2,3,4,5,6,7])\n",
    "    "
   ]
  },
  {
   "cell_type": "markdown",
   "id": "338f9d5e",
   "metadata": {},
   "source": [
    "14. Write a recursive function to determine whether a given string is a palindrome."
   ]
  },
  {
   "cell_type": "code",
   "execution_count": 4,
   "id": "29c452e5",
   "metadata": {},
   "outputs": [
    {
     "name": "stdout",
     "output_type": "stream",
     "text": [
      "Enter a string: refer\n",
      "The string is palindrome\n"
     ]
    }
   ],
   "source": [
    "def is_palindrome(string):\n",
    "    if len(string)<1:\n",
    "        return True\n",
    "    else:\n",
    "        if string[0]==string[-1]:\n",
    "            return is_palindrome(string[1:-1])\n",
    "        else:\n",
    "            return False\n",
    "        \n",
    "str1 = input(\"Enter a string: \")\n",
    "\n",
    "if is_palindrome(str1)==True:\n",
    "    print(\"The string is palindrome\")\n",
    "else:\n",
    "    print(\"The string is not palindrome\")"
   ]
  },
  {
   "cell_type": "markdown",
   "id": "1254b540",
   "metadata": {},
   "source": [
    "15. Implement a recursive function to find the greatest common divisor (GCD) of two positive integers."
   ]
  },
  {
   "cell_type": "code",
   "execution_count": 19,
   "id": "fcf644dc",
   "metadata": {},
   "outputs": [
    {
     "name": "stdout",
     "output_type": "stream",
     "text": [
      "enter first number: 25\n",
      "enter second number: 35\n",
      "GCD of two positive numbers is: 5\n"
     ]
    }
   ],
   "source": [
    "def GCD(a,b):\n",
    "    x = a%b\n",
    "    if x==0:\n",
    "        return b\n",
    "    else:\n",
    "        return GCD(b,x)\n",
    "    \n",
    "num1=int(input(\"enter first number: \"))\n",
    "num2=int(input(\"enter second number: \"))\n",
    "print(\"GCD of two positive numbers is:\", GCD(num1,num2))"
   ]
  }
 ],
 "metadata": {
  "kernelspec": {
   "display_name": "Python 3 (ipykernel)",
   "language": "python",
   "name": "python3"
  },
  "language_info": {
   "codemirror_mode": {
    "name": "ipython",
    "version": 3
   },
   "file_extension": ".py",
   "mimetype": "text/x-python",
   "name": "python",
   "nbconvert_exporter": "python",
   "pygments_lexer": "ipython3",
   "version": "3.11.4"
  }
 },
 "nbformat": 4,
 "nbformat_minor": 5
}
