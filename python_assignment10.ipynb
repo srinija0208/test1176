{
 "cells": [
  {
   "cell_type": "markdown",
   "id": "5c5c0cda",
   "metadata": {},
   "source": [
    "1. What is the role of try and exception block?"
   ]
  },
  {
   "cell_type": "markdown",
   "id": "4f702139",
   "metadata": {},
   "source": [
    "try block : The code within the try block contains the statements that may potentially raise an exception. It allows you to\n",
    "specify the section of code you want to monitor for exceptions.\n",
    "\n",
    "exception block : If an exception occurs within the try block then the corresponding except blocks are executed.The except block allows you to define the actions or code that should be executed when a specific exception is raised.We can have multiple except blocks to handle different types of exceptions."
   ]
  },
  {
   "cell_type": "markdown",
   "id": "2b9705c2",
   "metadata": {},
   "source": [
    "2. What is the syntax for a basic try-except block?"
   ]
  },
  {
   "cell_type": "code",
   "execution_count": 1,
   "id": "a3559f27",
   "metadata": {},
   "outputs": [
    {
     "name": "stdout",
     "output_type": "stream",
     "text": [
      "there is an error\n"
     ]
    }
   ],
   "source": [
    "try:\n",
    "    print(x)\n",
    "except:\n",
    "    print(\"there is an error\")"
   ]
  },
  {
   "cell_type": "markdown",
   "id": "d6601343",
   "metadata": {},
   "source": [
    "3. What happens if an exception occurs inside a try block and there is no matching\n",
    "   except block?"
   ]
  },
  {
   "cell_type": "markdown",
   "id": "547ab58d",
   "metadata": {},
   "source": [
    "If any exception occurs , but if there is no matching except block exists within the code then it is passed on to the outer try statements.If no handler is found, then the execution stops."
   ]
  },
  {
   "cell_type": "code",
   "execution_count": 25,
   "id": "c3d3dce6",
   "metadata": {},
   "outputs": [
    {
     "ename": "TypeError",
     "evalue": "unsupported operand type(s) for /: 'int' and 'str'",
     "output_type": "error",
     "traceback": [
      "\u001b[1;31m---------------------------------------------------------------------------\u001b[0m",
      "\u001b[1;31mTypeError\u001b[0m                                 Traceback (most recent call last)",
      "Cell \u001b[1;32mIn[25], line 5\u001b[0m\n\u001b[0;32m      3\u001b[0m     a \u001b[38;5;241m=\u001b[39m \u001b[38;5;241m10\u001b[39m\n\u001b[0;32m      4\u001b[0m     b \u001b[38;5;241m=\u001b[39m \u001b[38;5;124m\"\u001b[39m\u001b[38;5;124m5\u001b[39m\u001b[38;5;124m\"\u001b[39m\n\u001b[1;32m----> 5\u001b[0m     \u001b[38;5;28mprint\u001b[39m(a\u001b[38;5;241m/\u001b[39mb)\n\u001b[0;32m      6\u001b[0m \u001b[38;5;28;01mexcept\u001b[39;00m \u001b[38;5;167;01mZeroDivisionError\u001b[39;00m:\n\u001b[0;32m      7\u001b[0m     \u001b[38;5;28mprint\u001b[39m(\u001b[38;5;124m\"\u001b[39m\u001b[38;5;124mcannot divide by zero\u001b[39m\u001b[38;5;124m\"\u001b[39m)\n",
      "\u001b[1;31mTypeError\u001b[0m: unsupported operand type(s) for /: 'int' and 'str'"
     ]
    }
   ],
   "source": [
    "try:\n",
    "    try:\n",
    "        a = 10\n",
    "        b = \"5\"\n",
    "        print(a/b)\n",
    "    except ZeroDivisionError:\n",
    "        print(\"cannot divide by zero\")\n",
    "except ValueError:\n",
    "    print(\"there is an error\")\n",
    "    "
   ]
  },
  {
   "cell_type": "markdown",
   "id": "7cc44fce",
   "metadata": {},
   "source": [
    "4. What is the difference between using a bare except block and specifying a specific\n",
    "   exception type?"
   ]
  },
  {
   "cell_type": "markdown",
   "id": "9888b4f8",
   "metadata": {},
   "source": [
    "Bare Except : handles all Exceptions.\n",
    "Except Exception: would handle only Exceptions derived from Exception class.\n",
    "\n",
    "The point of specifying the Exception is that only that Exception will be caught, if you do not specify any Exception, then all Errors and Exceptions will be caught potentially making bugs."
   ]
  },
  {
   "cell_type": "code",
   "execution_count": 2,
   "id": "44e3a6c4",
   "metadata": {},
   "outputs": [
    {
     "name": "stdout",
     "output_type": "stream",
     "text": [
      "file you are loking for is not there.\n"
     ]
    }
   ],
   "source": [
    "try:\n",
    "    file_location = \"my_file.txt\"\n",
    "    with ope(file_location,\"r\") as file:\n",
    "        contents = file.read()\n",
    "        \n",
    "except :\n",
    "    print(\"file you are loking for is not there.\")"
   ]
  },
  {
   "cell_type": "code",
   "execution_count": 3,
   "id": "f83f019c",
   "metadata": {},
   "outputs": [
    {
     "ename": "NameError",
     "evalue": "name 'ope' is not defined",
     "output_type": "error",
     "traceback": [
      "\u001b[1;31m---------------------------------------------------------------------------\u001b[0m",
      "\u001b[1;31mNameError\u001b[0m                                 Traceback (most recent call last)",
      "Cell \u001b[1;32mIn[3], line 3\u001b[0m\n\u001b[0;32m      1\u001b[0m \u001b[38;5;28;01mtry\u001b[39;00m:\n\u001b[0;32m      2\u001b[0m     file_location \u001b[38;5;241m=\u001b[39m \u001b[38;5;124m\"\u001b[39m\u001b[38;5;124mmy_file.txt\u001b[39m\u001b[38;5;124m\"\u001b[39m\n\u001b[1;32m----> 3\u001b[0m     \u001b[38;5;28;01mwith\u001b[39;00m ope(file_location,\u001b[38;5;124m\"\u001b[39m\u001b[38;5;124mr\u001b[39m\u001b[38;5;124m\"\u001b[39m) \u001b[38;5;28;01mas\u001b[39;00m file:\n\u001b[0;32m      4\u001b[0m         contents \u001b[38;5;241m=\u001b[39m file\u001b[38;5;241m.\u001b[39mread()\n\u001b[0;32m      6\u001b[0m \u001b[38;5;28;01mexcept\u001b[39;00m \u001b[38;5;167;01mFileNotFoundError\u001b[39;00m:\n",
      "\u001b[1;31mNameError\u001b[0m: name 'ope' is not defined"
     ]
    }
   ],
   "source": [
    "try:\n",
    "    file_location = \"my_file.txt\"\n",
    "    with ope(file_location,\"r\") as file:\n",
    "        contents = file.read()\n",
    "        \n",
    "except FileNotFoundError:\n",
    "    print(\"file you are loking for is not there.\")"
   ]
  },
  {
   "cell_type": "markdown",
   "id": "e1cef52c",
   "metadata": {},
   "source": [
    "As shown above, both bare except and except exception works same. But when specified the type we can find the error and debug the code."
   ]
  },
  {
   "cell_type": "markdown",
   "id": "7031ce58",
   "metadata": {},
   "source": [
    "5. Can you have nested try-except blocks in Python? If yes, then give an example."
   ]
  },
  {
   "cell_type": "markdown",
   "id": "073a07ca",
   "metadata": {},
   "source": [
    "Nested try-except blocks allows you to handle exceptions at different levels of our code and perform specific actions based on the type of exception that occurs."
   ]
  },
  {
   "cell_type": "code",
   "execution_count": 7,
   "id": "f9ca369e",
   "metadata": {},
   "outputs": [
    {
     "name": "stdout",
     "output_type": "stream",
     "text": [
      "Enter first num:5\n",
      "Enter second num:0\n",
      "cannot divide by zero\n"
     ]
    }
   ],
   "source": [
    "try:\n",
    "    try:\n",
    "        num1=int(input(\"Enter first num:\"))\n",
    "        num2=int(input(\"Enter second num:\"))\n",
    "        result = num1/num2\n",
    "    except ValueError:\n",
    "        print(\"Enter a valid number\")\n",
    "    except ZeroDivisionError:\n",
    "        print(\"cannot divide by zero\")\n",
    "    else:\n",
    "        print(\"The result is\",result)\n",
    "except:\n",
    "    print(\"An unexpected error occured\")"
   ]
  },
  {
   "cell_type": "markdown",
   "id": "b921d0df",
   "metadata": {},
   "source": [
    "6. Can we use multiple exception blocks, if yes then give an example."
   ]
  },
  {
   "cell_type": "markdown",
   "id": "7d72d877",
   "metadata": {},
   "source": [
    "It is possible to have multiple except blocks. When an exception occurs , interpreter checks the except blocks associated with that try block. These except blocks may specify what kind of exceptions they handle. When an interpreter finds a matching exception, it executes that except block."
   ]
  },
  {
   "cell_type": "code",
   "execution_count": 9,
   "id": "10455512",
   "metadata": {},
   "outputs": [
    {
     "name": "stdout",
     "output_type": "stream",
     "text": [
      "enter a number:10\n",
      "enter a number:\"5\"\n",
      "data type mismatched\n"
     ]
    }
   ],
   "source": [
    "try:\n",
    "    a = int(input(\"enter a number:\"))\n",
    "    b = int(input(\"enter a number:\"))\n",
    "    print(a/b)\n",
    "except ZeroDivisionError:\n",
    "    print(\"cannot divide by zero\")\n",
    "except ValueError:\n",
    "    print(\"data type mismatched\")"
   ]
  },
  {
   "cell_type": "markdown",
   "id": "53891777",
   "metadata": {},
   "source": [
    "7. Write the reason due to which following errors are raised:\n",
    "  \n",
    "   a. EOFError\n",
    "  \n",
    "   b. FloatingPointError\n",
    "  \n",
    "   c. IndexError\n",
    "  \n",
    "   d. MemoryError\n",
    "  \n",
    "   e. OverflowError\n",
    "  \n",
    "   f. TabError\n",
    "  \n",
    "   g. ValueError"
   ]
  },
  {
   "cell_type": "markdown",
   "id": "93577dc2",
   "metadata": {},
   "source": [
    "EOFError: raised when the input() function hits an end-of-file condition (EOF).\n",
    "\n",
    "FloatingPointError: raised when a floating point operation fails.\n",
    "\n",
    "IndexError: raised when a sequence subscript(index) is out of range.\n",
    "\n",
    "MemoryError: raised when an operation runs out of memory.\n",
    "\n",
    "OverFlowError: raised when the result of an arithemtic operation is too large to be expressed.\n",
    "\n",
    "TabError: raised when indentation contains mixed tabs and spaces.\n",
    "\n",
    "ValueError: raised when a built-in operation or function receives an argument that has right type but an inappropriate value.\n"
   ]
  },
  {
   "cell_type": "markdown",
   "id": "78493502",
   "metadata": {},
   "source": [
    "8. Write code for the following given scenario and add try-exception block to it.\n",
    "\n",
    "   a. Program to divide two numbers\n",
    "\n",
    "   b. Program to convert a string to an integer\n",
    "\n",
    "   c. Program to access an element in a list\n",
    "\n",
    "   d. Program to handle a specific exception\n",
    "\n",
    "   e. Program to handle any exception"
   ]
  },
  {
   "cell_type": "code",
   "execution_count": 13,
   "id": "ca0bfea4",
   "metadata": {},
   "outputs": [
    {
     "name": "stdout",
     "output_type": "stream",
     "text": [
      "enter a number:8\n",
      "enter a number:2\n",
      "4.0\n"
     ]
    }
   ],
   "source": [
    "# to divide two numbers\n",
    "\n",
    "try:\n",
    "    a = int(input(\"enter a number:\"))\n",
    "    b = int(input(\"enter a number:\"))\n",
    "    print(a/b)\n",
    "    \n",
    "except:\n",
    "    print(a/b)\n",
    "    "
   ]
  },
  {
   "cell_type": "code",
   "execution_count": 18,
   "id": "12dc226c",
   "metadata": {},
   "outputs": [
    {
     "name": "stdout",
     "output_type": "stream",
     "text": [
      "10\n"
     ]
    }
   ],
   "source": [
    "# converting a string to an integer\n",
    "\n",
    "try:\n",
    "    a = \"10\"\n",
    "    b = int(a)\n",
    "    print(b)\n",
    "except:\n",
    "    print(\"there is an error\")"
   ]
  },
  {
   "cell_type": "code",
   "execution_count": 17,
   "id": "6cf37a9e",
   "metadata": {},
   "outputs": [
    {
     "name": "stdout",
     "output_type": "stream",
     "text": [
      "5\n"
     ]
    }
   ],
   "source": [
    "# to access an element in a list\n",
    "\n",
    "try:\n",
    "    l1 = [1,\"hello\",5,\"pytho\",6,2]\n",
    "    print(l1[2])\n",
    "    \n",
    "except:\n",
    "    print(\"there is an error\")\n",
    "    "
   ]
  },
  {
   "cell_type": "code",
   "execution_count": 20,
   "id": "8a9217ce",
   "metadata": {},
   "outputs": [
    {
     "name": "stdout",
     "output_type": "stream",
     "text": [
      "index out of range\n"
     ]
    }
   ],
   "source": [
    "# to handle a specific exception\n",
    "\n",
    "try:\n",
    "    l1 = [2,3,\"hello\",5,\"python\"]\n",
    "    print(l1[5])\n",
    "    \n",
    "except ZeroDivisionError:\n",
    "    print(\"cannot divide by zero\")\n",
    "\n",
    "except IndexError:\n",
    "    print(\"index out of range\")"
   ]
  },
  {
   "cell_type": "code",
   "execution_count": 22,
   "id": "4ab60a4c",
   "metadata": {},
   "outputs": [
    {
     "name": "stdout",
     "output_type": "stream",
     "text": [
      "hello\n",
      "error occured\n"
     ]
    }
   ],
   "source": [
    "# to handle any exception\n",
    "\n",
    "try:\n",
    "    l1 = [2,3,4,\"hello\",5,\"python\"]\n",
    "    print(l1[3])\n",
    "    print(l1[6])\n",
    "\n",
    "except:\n",
    "    print(\"error occured\")"
   ]
  }
 ],
 "metadata": {
  "kernelspec": {
   "display_name": "Python 3 (ipykernel)",
   "language": "python",
   "name": "python3"
  },
  "language_info": {
   "codemirror_mode": {
    "name": "ipython",
    "version": 3
   },
   "file_extension": ".py",
   "mimetype": "text/x-python",
   "name": "python",
   "nbconvert_exporter": "python",
   "pygments_lexer": "ipython3",
   "version": "3.11.4"
  }
 },
 "nbformat": 4,
 "nbformat_minor": 5
}
