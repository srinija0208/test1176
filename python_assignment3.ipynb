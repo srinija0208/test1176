{
 "cells": [
  {
   "cell_type": "markdown",
   "id": "306375a9",
   "metadata": {},
   "source": [
    "##### 1. Why are functions advantageous to have in your programs?"
   ]
  },
  {
   "cell_type": "markdown",
   "id": "083041cc",
   "metadata": {},
   "source": [
    "* Breaks an extensive program into smaller and smaller pieces which makes the program strucured understandable and reusable.\n",
    "\n",
    "* The function can be reused countless times after it is defined.\n",
    "\n",
    "* dividing a program into function is more efficient and easy to understand.\n",
    "\n",
    "* Functions help in code modularity.\n",
    "\n",
    "* Reduces dublication of code.\n",
    "\n",
    "* Makes debugging easier."
   ]
  },
  {
   "cell_type": "markdown",
   "id": "716f4aa0",
   "metadata": {},
   "source": [
    "##### 2. When does the code in a function run: when its specified or when its called?"
   ]
  },
  {
   "cell_type": "markdown",
   "id": "4ffe5c69",
   "metadata": {},
   "source": [
    "Once we have defined a code, it will not run on its own. To execute the code inside a function we have to call the function first. We can then call the function as many times as we want. "
   ]
  },
  {
   "cell_type": "code",
   "execution_count": 1,
   "id": "fdf0dbb1",
   "metadata": {},
   "outputs": [
    {
     "name": "stdout",
     "output_type": "stream",
     "text": [
      "hello liz\n"
     ]
    }
   ],
   "source": [
    "def greetings(name):\n",
    "    print(\"hello\",name)\n",
    "    \n",
    "greetings(\"liz\")"
   ]
  },
  {
   "cell_type": "markdown",
   "id": "1eaac216",
   "metadata": {},
   "source": [
    "##### 3. What statement creates a function?"
   ]
  },
  {
   "cell_type": "markdown",
   "id": "cd53e4f8",
   "metadata": {},
   "source": [
    "The “def” keyword is a statement for defining a function in Python. You start a function with the def keyword and specify a name followed by a colon (:). The “def” call creates the function object and assigns it to the name given. We can further re-\n",
    "assign the same function object to other names. After defining , we now have to call the function then the function will get executed.\n",
    "\n",
    "Since def is a statement, you can use it anywhere a statement can appear – such as nested in an if clause or within another function."
   ]
  },
  {
   "cell_type": "markdown",
   "id": "0e3db7f8",
   "metadata": {},
   "source": [
    "##### 4. What is the difference between a function and a function call?"
   ]
  },
  {
   "cell_type": "markdown",
   "id": "0182d4b8",
   "metadata": {},
   "source": [
    "A function is a block of code that performs a specific task and return the result.  It may or may not accept the parameters.\n",
    "while a function call is an expression that invokes a function  or call the function by passing parameters if required and executes the code in the function.\n",
    "\n"
   ]
  },
  {
   "cell_type": "code",
   "execution_count": 3,
   "id": "f5db14d1",
   "metadata": {},
   "outputs": [
    {
     "data": {
      "text/plain": [
       "11"
      ]
     },
     "execution_count": 3,
     "metadata": {},
     "output_type": "execute_result"
    }
   ],
   "source": [
    "def sum(a,b):\n",
    "    return a+b\n",
    "\n",
    "sum(5,6)"
   ]
  },
  {
   "cell_type": "markdown",
   "id": "c463bc3c",
   "metadata": {},
   "source": [
    "##### 5. How many global scopes are there in a Python program? How many local scopes?"
   ]
  },
  {
   "cell_type": "markdown",
   "id": "3270f095",
   "metadata": {},
   "source": [
    "* Global scope: There’s only one global Python scope per program execution. Global scope refers to the names of variables which   are defined in the main body of a program(outside the function). These are visible and accessed throughout the program. The     variables or objects declared in the global scope are easily accessible to all functions within the program.\n",
    "\n",
    "  As a good programming habit, it is advisable to avoid global variables as much as possible. Because it may lead to the        creation of programming errors. The main issue it creates is the accidental changes in data that arise as a result of the    program's multiple global variables."
   ]
  },
  {
   "cell_type": "code",
   "execution_count": 2,
   "id": "acdae42e",
   "metadata": {},
   "outputs": [
    {
     "name": "stdout",
     "output_type": "stream",
     "text": [
      "1176\n",
      "1176\n"
     ]
    }
   ],
   "source": [
    "x = 1176\n",
    "\n",
    "def myfunc():\n",
    "  print(x)\n",
    "\n",
    "myfunc()\n",
    "\n",
    "print(x)"
   ]
  },
  {
   "cell_type": "markdown",
   "id": "d64847ea",
   "metadata": {},
   "source": [
    "* Local scope: Local scope refers to the names which are defined within a function and are local to that function. They can be     accessed from the point of its definition until the end of the block in which it has been defined. The local scope exists till   the time the function has been executed. \n",
    "\n",
    "  The main advantage of a local variable is that the data is not accidentally changed. since local variables are created and       destroyed with each entry and exit from the block, they cannot save the data in between the function calls."
   ]
  },
  {
   "cell_type": "code",
   "execution_count": 4,
   "id": "c6457d4a",
   "metadata": {},
   "outputs": [
    {
     "name": "stdout",
     "output_type": "stream",
     "text": [
      "1176\n"
     ]
    }
   ],
   "source": [
    "def myfunc():\n",
    "    x = 1176\n",
    "    print(x)\n",
    "    \n",
    "myfunc()\n"
   ]
  },
  {
   "cell_type": "markdown",
   "id": "29a6790b",
   "metadata": {},
   "source": [
    "##### 6. What happens to variables in a local scope when the function call returns?"
   ]
  },
  {
   "cell_type": "markdown",
   "id": "583baee5",
   "metadata": {},
   "source": [
    "A local variable retains its value until the next time the function is called. A local variable becomes undefined after the function call completes.When the execution of the function terminates (returns), the local variables are destroyed.\n",
    "\n",
    "So it is not possible for a function to set some local variable to a value, complete its execution, and then when it is called again next time, recover the local variable. Each call of the function creates new local variables, and their lifetimes expire when the function returns to the caller."
   ]
  },
  {
   "cell_type": "markdown",
   "id": "7029b70c",
   "metadata": {},
   "source": [
    "##### 7. What is the concept of a return value? Is it possible to have a return value in an expression?"
   ]
  },
  {
   "cell_type": "markdown",
   "id": "f9b5062d",
   "metadata": {},
   "source": [
    "The return() statement, like in other programming languages ends the function call and returns the result to the caller. It is a key component in any function or method in a code which includes the return keyword and the value that is to be returned after that.\n",
    "\n",
    "* The statements after the return() statement are not executed.\n",
    "* return() statement can not be used outside the function.\n",
    "* If the return() statement is without any expression, then the NONE value is returned.\n",
    "\n",
    "A value-returning function should include a return statement, containing an expression.Like any value, a return value can be used as a part of an expression. "
   ]
  },
  {
   "cell_type": "code",
   "execution_count": 1,
   "id": "0b29e334",
   "metadata": {},
   "outputs": [
    {
     "data": {
      "text/plain": [
       "13"
      ]
     },
     "execution_count": 1,
     "metadata": {},
     "output_type": "execute_result"
    }
   ],
   "source": [
    "def add(a,b):\n",
    "    c = a+b\n",
    "    return c\n",
    "add(6,7)"
   ]
  },
  {
   "cell_type": "code",
   "execution_count": 3,
   "id": "5d07d640",
   "metadata": {},
   "outputs": [
    {
     "name": "stdout",
     "output_type": "stream",
     "text": [
      "None\n"
     ]
    }
   ],
   "source": [
    "def add():\n",
    "    return\n",
    "print(add())"
   ]
  },
  {
   "cell_type": "markdown",
   "id": "37f74ca1",
   "metadata": {},
   "source": [
    "##### 8. If a function does not have a return statement, what is the return value of a call to that function?"
   ]
  },
  {
   "cell_type": "markdown",
   "id": "2ce16e67",
   "metadata": {},
   "source": [
    "A return statement is used to end the execution of the function call and “returns” the result to the caller. It can’t be used outside of a Python function.\n",
    "\n",
    "Every function in Python returns something. If the function doesn’t have any return statement, then it returns None."
   ]
  },
  {
   "cell_type": "code",
   "execution_count": 5,
   "id": "c86b0db5",
   "metadata": {},
   "outputs": [
    {
     "name": "stdout",
     "output_type": "stream",
     "text": [
      "None\n"
     ]
    }
   ],
   "source": [
    "def greets():\n",
    "    return\n",
    "print(greets())"
   ]
  },
  {
   "cell_type": "code",
   "execution_count": 18,
   "id": "378a277b",
   "metadata": {},
   "outputs": [
    {
     "name": "stdout",
     "output_type": "stream",
     "text": [
      "the sum is None\n"
     ]
    }
   ],
   "source": [
    "# if the condition is satisfied, then it returns result else returns none\n",
    "\n",
    "def sum(a,b):\n",
    "    c = a+b\n",
    "    if c>10:\n",
    "        return c\n",
    "result = sum(5,4)\n",
    "print(\"the sum is\",result)"
   ]
  },
  {
   "cell_type": "markdown",
   "id": "11c3ae07",
   "metadata": {},
   "source": [
    "##### 9. How do you make a function variable refer to the global variable?"
   ]
  },
  {
   "cell_type": "markdown",
   "id": "a932669f",
   "metadata": {},
   "source": [
    "when you create a variable inside a function, that variable is local, and can only be used inside that function.\n",
    "\n",
    "To create a global variable inside a function, you can use the global keyword. If you use global keyword, then the variable belongs to the global scope."
   ]
  },
  {
   "cell_type": "code",
   "execution_count": 11,
   "id": "700a48b9",
   "metadata": {},
   "outputs": [
    {
     "name": "stdout",
     "output_type": "stream",
     "text": [
      "python is easy to learn\n"
     ]
    }
   ],
   "source": [
    "def msg():    \n",
    "    global x\n",
    "    x = \"python\"\n",
    "msg()\n",
    "\n",
    "print(x,\"is easy to learn\")"
   ]
  },
  {
   "cell_type": "markdown",
   "id": "6364b4f3",
   "metadata": {},
   "source": [
    "##### 10. What is the data type of None?"
   ]
  },
  {
   "cell_type": "markdown",
   "id": "df4ccca6",
   "metadata": {},
   "source": [
    "The None keyword is used to define a null variable, or no value at all, or an object in python.The None keyword in Python is a data type and an object of the NoneType class.None can be assigned to any variable, but new NoneType objects cannot be created.\n",
    "We cannot change the reference to None by assigning values to it.\n",
    "\n",
    "None is not the same as 0, False, or an empty string. None is a data type of its own (NoneType) and  None can only be equal to None.If we compare None to anything, it will always return False in Python, except while comparing it to None itself."
   ]
  },
  {
   "cell_type": "code",
   "execution_count": 14,
   "id": "21868959",
   "metadata": {},
   "outputs": [
    {
     "name": "stdout",
     "output_type": "stream",
     "text": [
      "None\n"
     ]
    }
   ],
   "source": [
    "x = None\n",
    "print(x)"
   ]
  },
  {
   "cell_type": "code",
   "execution_count": 13,
   "id": "fdde9557",
   "metadata": {},
   "outputs": [
    {
     "name": "stdout",
     "output_type": "stream",
     "text": [
      "fizz is None!\n"
     ]
    }
   ],
   "source": [
    "fizz = None\n",
    "buzz = 2\n",
    "\n",
    "if fizz == None:\n",
    "    print(\"fizz is None!\")\n",
    "\n",
    "elif buzz == None:\n",
    "    print(\"buzz is None!\")\n",
    "    \n",
    "else:\n",
    "    print(\"neither fizz, nor the buzz is None!\")"
   ]
  },
  {
   "cell_type": "markdown",
   "id": "77716790",
   "metadata": {},
   "source": [
    "##### 11. What does the sentence import areallyourpetsnamederic do?"
   ]
  },
  {
   "cell_type": "markdown",
   "id": "1cea0daf",
   "metadata": {},
   "source": [
    "That import statement imports a module named areallyourpetsnamederic (which is not a real python module)."
   ]
  },
  {
   "cell_type": "markdown",
   "id": "18a99aef",
   "metadata": {},
   "source": [
    "##### 12. If you had a bacon() feature in a spam module, what would you call it after importing spam?"
   ]
  },
  {
   "cell_type": "markdown",
   "id": "0ea8e9c3",
   "metadata": {},
   "source": [
    "This function call could be bacon.spam()."
   ]
  },
  {
   "cell_type": "markdown",
   "id": "df403366",
   "metadata": {},
   "source": [
    "##### 13. What can you do to save a programme from crashing if it encounters an error?"
   ]
  },
  {
   "cell_type": "markdown",
   "id": "41c9b73a",
   "metadata": {},
   "source": [
    "If an error occurs in a program, we don’t want the program to unexpectedly crash on the user. Instead, error handling can be used to notify the user of why the error occurred and gracefully exit the process that caused the error.\n",
    "\n",
    "we can use try-except blocks or other error-handling techniques, in order to gracefully handle errors and prevent the program from crashing ( We can also place the line of code that might cause error in a try clause)."
   ]
  },
  {
   "cell_type": "markdown",
   "id": "1c47ef34",
   "metadata": {},
   "source": [
    "##### 14. What is the purpose of the try clause? What is the purpose of the except clause?"
   ]
  },
  {
   "cell_type": "markdown",
   "id": "b906b186",
   "metadata": {},
   "source": [
    "try: The try block lets you test the block of code or catch the exception(s). If an exception is raised, it jumps straight into the except block.\n",
    "\n",
    "except: The except block lets you handle the error. This code is only executed if an exception occured in the try block. The except block is required with a try block, even if it contains only the pass statement."
   ]
  },
  {
   "cell_type": "code",
   "execution_count": 17,
   "id": "60475666",
   "metadata": {},
   "outputs": [
    {
     "name": "stdout",
     "output_type": "stream",
     "text": [
      "division by zero\n"
     ]
    }
   ],
   "source": [
    "try:\n",
    "    1/0\n",
    "    \n",
    "except ZeroDivisionError as e:\n",
    "    print(e)"
   ]
  }
 ],
 "metadata": {
  "kernelspec": {
   "display_name": "Python 3 (ipykernel)",
   "language": "python",
   "name": "python3"
  },
  "language_info": {
   "codemirror_mode": {
    "name": "ipython",
    "version": 3
   },
   "file_extension": ".py",
   "mimetype": "text/x-python",
   "name": "python",
   "nbconvert_exporter": "python",
   "pygments_lexer": "ipython3",
   "version": "3.11.4"
  }
 },
 "nbformat": 4,
 "nbformat_minor": 5
}
