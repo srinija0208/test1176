{
 "cells": [
  {
   "cell_type": "markdown",
   "id": "bc7143b8-6653-4842-aa01-379ef993b44a",
   "metadata": {},
   "source": [
    "1.What are the two values of the Boolean data type? How do you write them?"
   ]
  },
  {
   "cell_type": "markdown",
   "id": "803b872c-095c-4e5e-9874-2de76b36322e",
   "metadata": {},
   "source": [
    "Boolean data type provides two built-in values ,True and False.\n",
    "These values are used to check whether the given statemnt is true or false."
   ]
  },
  {
   "cell_type": "code",
   "execution_count": 2,
   "id": "bcadffc8-76a6-46f0-be45-2db50909ea86",
   "metadata": {},
   "outputs": [
    {
     "data": {
      "text/plain": [
       "bool"
      ]
     },
     "execution_count": 2,
     "metadata": {},
     "output_type": "execute_result"
    }
   ],
   "source": [
    "a=True\n",
    "type(a)"
   ]
  },
  {
   "cell_type": "markdown",
   "id": "02389cdb-de35-4b73-bc64-cd5673b273b6",
   "metadata": {},
   "source": [
    "2. What are the three different types of Boolean operators?"
   ]
  },
  {
   "cell_type": "markdown",
   "id": "89212dec-6f8e-4d32-9839-880d9e8d39e7",
   "metadata": {},
   "source": [
    "AND,OR AND NOT are three types of boolean operators.These operators always return a boolean\n",
    "value, True or False.\n",
    "AND: returns True when both operands are True.\n",
    "OR:  returns True when anyone of both operands is True.\n",
    "NOT: reverses the operand state."
   ]
  },
  {
   "cell_type": "markdown",
   "id": "fa170f25-9ddc-4a4f-be68-1d79a26b7f12",
   "metadata": {},
   "source": [
    "3. Make a list of each Boolean operator&#39;s truth tables (i.e. every possible combination of Boolean\n",
    "values for the operator and what it evaluate )."
   ]
  },
  {
   "cell_type": "code",
   "execution_count": null,
   "id": "0c5aa5ad-6095-4807-9174-c40611c42ee9",
   "metadata": {},
   "outputs": [],
   "source": [
    "p=True \n",
    "q=True \n",
    "p and q = True ; p or q=True ; not p = False\n",
    "\n",
    "p=True \n",
    "q=False\n",
    "p and q = False ; p or q = True ; not p = False\n",
    "\n",
    "p=False\n",
    "q=True\n",
    "p and q = True ; p or q = True ; not p = True\n",
    "\n",
    "p=False\n",
    "q=True\n",
    "p and q = False ; p or q = False ; not p = True\n"
   ]
  },
  {
   "cell_type": "markdown",
   "id": "56bd5aef-f512-470c-8e10-f6eece302c5d",
   "metadata": {},
   "source": [
    "4. What are the values of the following expressions?\n",
    "\n",
    "(5 &gt; 4) and (3 == 5)\n",
    "\n",
    "not (5 &gt; 4)\n",
    "\n",
    "(5 &gt; 4) or (3 == 5)\n",
    "\n",
    "not ((5 &gt; 4) or (3 == 5))\n",
    "\n",
    "(True and True) and (True == False)"
   ]
  },
  {
   "cell_type": "markdown",
   "id": "e355b632-90c8-4b5c-9083-2152530c1969",
   "metadata": {},
   "source": [
    "1. False\n",
    "2. False\n",
    "3. True\n",
    "4. False\n",
    "5. False"
   ]
  },
  {
   "cell_type": "markdown",
   "id": "e184612a-67c0-4a09-b059-fa1feac9095f",
   "metadata": {},
   "source": [
    "5. What are the six comparison operators?"
   ]
  },
  {
   "cell_type": "markdown",
   "id": "8b5e37eb-e8dc-4041-bc39-eda092ccb482",
   "metadata": {},
   "source": [
    "1. Equal to (==)\n",
    "2. Not Equal to (!=)\n",
    "3. Greater than (>)\n",
    "4. less than (<)\n",
    "5. Greater than or equal to (>=)\n",
    "6. lesser than or equal to (<=)"
   ]
  },
  {
   "cell_type": "code",
   "execution_count": 3,
   "id": "8569daad-675e-4d09-be15-819afb315ea1",
   "metadata": {},
   "outputs": [
    {
     "name": "stdout",
     "output_type": "stream",
     "text": [
      "False\n",
      "True\n",
      "False\n",
      "False\n",
      "True\n",
      "True\n"
     ]
    }
   ],
   "source": [
    "a=10\n",
    "b=15\n",
    "print(a==b)\n",
    "print(a!=b)\n",
    "print(a>b)\n",
    "print(a>=b)\n",
    "print(a<b)\n",
    "print(a<=b)"
   ]
  },
  {
   "cell_type": "markdown",
   "id": "2e031bc7-6d77-4982-9edb-3aa82816e327",
   "metadata": {},
   "source": [
    "6. How do you tell the difference between the equal to and assignment operators?Describe a\n",
    "condition and when you would use one."
   ]
  },
  {
   "cell_type": "markdown",
   "id": "c6dbdaa3-9358-4e5f-900c-d814383bc13f",
   "metadata": {},
   "source": [
    "ans: Assignment operator i.e '=' is used to assign values generated after evaluating the right operand to the \n",
    "     left operand.\n",
    "     equal to i.e '==' is used to check whether the given expression is true or not."
   ]
  },
  {
   "cell_type": "code",
   "execution_count": 5,
   "id": "692f2655-ce2b-496b-95a3-0de2804bb72c",
   "metadata": {},
   "outputs": [
    {
     "name": "stdout",
     "output_type": "stream",
     "text": [
      "6\n",
      "False\n"
     ]
    }
   ],
   "source": [
    "# assignment operator\n",
    "x=5\n",
    "x+=1\n",
    "print(x)\n",
    "\n",
    "# equal to operator\n",
    "print(10==5)"
   ]
  },
  {
   "cell_type": "markdown",
   "id": "499d5316-d22d-4a5c-b40c-e6ab76b6f9fd",
   "metadata": {},
   "source": [
    "7. Identify the three blocks in this code:\n",
    "    \n",
    "spam = 0\n",
    "\n",
    "if spam == 10:\n",
    "    \n",
    "print(&#39;eggs&#39;)\n",
    "\n",
    "\n",
    "if spam &gt; 5:\n",
    "      \n",
    "print(&#39;bacon&#39;)\n",
    "      \n",
    "else:\n",
    "      \n",
    "print(&#39;ham&#39;)\n",
    "      \n",
    "print(&#39;spam&#39;)\n",
    "      \n",
    "print(&#39;spam&#39;)"
   ]
  },
  {
   "cell_type": "markdown",
   "id": "614ce364-3df1-46c9-9c8b-4dcce3cba937",
   "metadata": {},
   "source": [
    " if spam== 10:\n",
    " \n",
    " if spam>5: \n",
    " else:    \n",
    " These are the three blocks from the given code."
   ]
  },
  {
   "cell_type": "markdown",
   "id": "d721b821-cfa7-4003-acde-e184ed920182",
   "metadata": {},
   "source": [
    "8. Write code that prints Hello if 1 is stored in spam, prints Howdy if 2 is stored in spam, and prints\n",
    "Greetings! if anything else is stored in spam."
   ]
  },
  {
   "cell_type": "code",
   "execution_count": 10,
   "id": "19f3a3e9-74b6-477b-9082-571708d9b631",
   "metadata": {},
   "outputs": [
    {
     "name": "stdin",
     "output_type": "stream",
     "text": [
      "enter the value: 1\n"
     ]
    },
    {
     "name": "stdout",
     "output_type": "stream",
     "text": [
      "hello\n"
     ]
    }
   ],
   "source": [
    "spam=int(input(\"enter the value:\"))\n",
    "\n",
    "if spam==1:\n",
    "    print(\"hello\")\n",
    "elif spam==2:\n",
    "    print(\"howdy\")\n",
    "else:\n",
    "    print(\"greetings\")"
   ]
  },
  {
   "cell_type": "markdown",
   "id": "bf86258e-268f-4adb-b2a8-235719fa3e95",
   "metadata": {},
   "source": [
    "9.If your programme is stuck in an endless loop, what keys you’ll press?"
   ]
  },
  {
   "cell_type": "markdown",
   "id": "89f7fdc4-3b47-4f57-957b-a68332352ace",
   "metadata": {},
   "source": [
    "ans: If a loop iterates infinitely or continuously , the process can be stopped by external intervention\n",
    "    by ctrl + c or by adding a break statement."
   ]
  },
  {
   "cell_type": "markdown",
   "id": "91a93b25-2e68-4e5f-a99f-be47c9ec1d7b",
   "metadata": {},
   "source": [
    "10. How can you tell the difference between break and continue?"
   ]
  },
  {
   "cell_type": "markdown",
   "id": "42e184b6-2278-4b5e-a093-4d5f768430d9",
   "metadata": {},
   "source": [
    "ans: Break statement stops the remaining iterations of the loop. Continue stops only the current iteration\n",
    "     of the loop.Once break statement is executed ,the entire program exits out of the loop. Whereas when continue \n",
    "     statement is executed , it resumes with the next iteration leaving the current iteration."
   ]
  },
  {
   "cell_type": "markdown",
   "id": "33c73cef-1b8d-4324-9068-b55892c5d5df",
   "metadata": {},
   "source": [
    "11. In a for loop, what is the difference between range(10), range(0, 10), and range(0, 10, 1)?"
   ]
  },
  {
   "cell_type": "markdown",
   "id": "50fef3b2-facb-4b22-b575-06d7beee5a31",
   "metadata": {},
   "source": [
    "range(10) #end\n",
    "\n",
    "range(0,10) #start and stop\n",
    "\n",
    "range(0,10,1) # start, stop and step \n",
    "\n",
    "start: start value of the sequence , when not provided it sets the value to 0\n",
    "\n",
    "stop: end value of the sequence, excluding the value of stop.\n",
    "\n",
    "step: difference between two elements in the sequence, when not provided it sets to 1."
   ]
  },
  {
   "cell_type": "markdown",
   "id": "956a308b-ffb0-4818-a400-e669da6d1df4",
   "metadata": {},
   "source": [
    "12. Write a short program that prints the numbers 1 to 10 using a for loop. Then write an equivalent\n",
    "program that prints the numbers 1 to 10 using a while loop."
   ]
  },
  {
   "cell_type": "code",
   "execution_count": 15,
   "id": "1cd395e4-66d6-403f-99b5-d51b9dacf9b4",
   "metadata": {},
   "outputs": [
    {
     "name": "stdout",
     "output_type": "stream",
     "text": [
      "1 2 3 4 5 6 7 8 9 10 "
     ]
    }
   ],
   "source": [
    "i=0\n",
    "for i in range(1,11):\n",
    "    print(i , end=' ')"
   ]
  },
  {
   "cell_type": "code",
   "execution_count": 17,
   "id": "e024808d-e295-45ce-a840-eb680def11cd",
   "metadata": {},
   "outputs": [
    {
     "name": "stdout",
     "output_type": "stream",
     "text": [
      "1 2 3 4 5 6 7 8 9 10 "
     ]
    }
   ],
   "source": [
    "count=1\n",
    "while count<=10:\n",
    "    print(count, end=' ')\n",
    "    count+=1"
   ]
  },
  {
   "cell_type": "markdown",
   "id": "4185d7e6-1c20-4765-8c3c-8d458a756bda",
   "metadata": {},
   "source": [
    "13. If you had a function named bacon() inside a module named spam, how would you call it after\n",
    "importing spam?"
   ]
  },
  {
   "cell_type": "code",
   "execution_count": null,
   "id": "57dc04e5-1e9e-45cd-9dd2-9abe1f0ff936",
   "metadata": {},
   "outputs": [],
   "source": [
    "spam.bacon()"
   ]
  }
 ],
 "metadata": {
  "kernelspec": {
   "display_name": "Python 3 (ipykernel)",
   "language": "python",
   "name": "python3"
  },
  "language_info": {
   "codemirror_mode": {
    "name": "ipython",
    "version": 3
   },
   "file_extension": ".py",
   "mimetype": "text/x-python",
   "name": "python",
   "nbconvert_exporter": "python",
   "pygments_lexer": "ipython3",
   "version": "3.10.6"
  }
 },
 "nbformat": 4,
 "nbformat_minor": 5
}
