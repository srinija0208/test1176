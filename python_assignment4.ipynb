{
 "cells": [
  {
   "cell_type": "markdown",
   "id": "a1ba1e01-de5b-4305-82b4-f45b9781e7a0",
   "metadata": {},
   "source": [
    " 1. What exactly is []?"
   ]
  },
  {
   "cell_type": "markdown",
   "id": "51256d90-1ca7-491e-ad6c-cb0263de30ac",
   "metadata": {},
   "source": [
    "ans: It is an empty list value, that contains no items.It is similar to that of an empty string value."
   ]
  },
  {
   "cell_type": "markdown",
   "id": "07ece22d-7e1d-4b0b-b4d7-c9a54621d702",
   "metadata": {},
   "source": [
    " 2. In a list of values stored in a variable called spam, how would you assign the value &#39;hello&#39;\n",
    "as the third value? (Assume [2, 4, 6, 8, 10] are in spam.)"
   ]
  },
  {
   "cell_type": "code",
   "execution_count": 2,
   "id": "db0b3cec-336e-44cf-8b5c-ed93def3d48a",
   "metadata": {},
   "outputs": [
    {
     "name": "stdout",
     "output_type": "stream",
     "text": [
      "[2, 4, 6, 'hello', 8, 10]\n"
     ]
    }
   ],
   "source": [
    "spam=[2,4,6,8,10]\n",
    "spam.insert(3,'hello')\n",
    "print(spam)\n",
    "     "
   ]
  },
  {
   "cell_type": "markdown",
   "id": "8b3a7f32-e4a7-45de-949e-5bb132d9302c",
   "metadata": {},
   "source": [
    "# Lets pretend the spam includes the list ['a','b','c','d'] for the next three queries."
   ]
  },
  {
   "cell_type": "markdown",
   "id": "8d5c80a4-3c33-4cbc-8cfc-6e0be8564439",
   "metadata": {},
   "source": [
    " 3. What is the value of spam[int(int(&#39;3&#39; * 2) / 11)]?"
   ]
  },
  {
   "cell_type": "code",
   "execution_count": 16,
   "id": "e4c2831d-4245-44fd-bd10-e5ca77039b35",
   "metadata": {},
   "outputs": [
    {
     "name": "stdout",
     "output_type": "stream",
     "text": [
      "d\n"
     ]
    }
   ],
   "source": [
    "spam=['a','b','c','d']\n",
    "s1=spam[int(int('3' * 2) / 11)]\n",
    "print(s1)"
   ]
  },
  {
   "cell_type": "markdown",
   "id": "90aea685-f4b6-4c6d-9f43-32e0527c5238",
   "metadata": {},
   "source": [
    " 4. What is the value of spam[-1]?"
   ]
  },
  {
   "cell_type": "code",
   "execution_count": 7,
   "id": "1db97f0c-7160-4be2-b345-be030587a14c",
   "metadata": {},
   "outputs": [
    {
     "data": {
      "text/plain": [
       "'d'"
      ]
     },
     "execution_count": 7,
     "metadata": {},
     "output_type": "execute_result"
    }
   ],
   "source": [
    "spam=['a','b','c','d']\n",
    "spam[-1]"
   ]
  },
  {
   "cell_type": "markdown",
   "id": "5d952081-47a1-4eb3-b9e3-50572b680814",
   "metadata": {},
   "source": [
    " 5. What is the value of spam[:2]?"
   ]
  },
  {
   "cell_type": "code",
   "execution_count": 8,
   "id": "b358875f-e968-4f47-90bb-8c3e1c49f626",
   "metadata": {},
   "outputs": [
    {
     "data": {
      "text/plain": [
       "['a', 'b']"
      ]
     },
     "execution_count": 8,
     "metadata": {},
     "output_type": "execute_result"
    }
   ],
   "source": [
    "spam=['a','b','c','d']\n",
    "spam[:2]"
   ]
  },
  {
   "cell_type": "markdown",
   "id": "a9fc3047-3fe8-4431-9cbd-d8d36bd1de4f",
   "metadata": {},
   "source": [
    "# Lets pretend bacon has the list [3.14, 'cat', 11, 'cat', True] for the next three questions."
   ]
  },
  {
   "cell_type": "markdown",
   "id": "643cd7a6-1f26-4813-8f67-3ebeca5cdcff",
   "metadata": {},
   "source": [
    " 6. What is the value of bacon.index('cat')?"
   ]
  },
  {
   "cell_type": "code",
   "execution_count": 9,
   "id": "64716017-7d97-4970-b19e-4b36388a0062",
   "metadata": {},
   "outputs": [
    {
     "data": {
      "text/plain": [
       "1"
      ]
     },
     "execution_count": 9,
     "metadata": {},
     "output_type": "execute_result"
    }
   ],
   "source": [
    "bacon=[3.14,'cat',11,'cat',True]\n",
    "bacon.index('cat')"
   ]
  },
  {
   "cell_type": "markdown",
   "id": "d40f293d-828c-4e46-9a06-29682594b56c",
   "metadata": {},
   "source": [
    " 7. How does bacon.append(99) change the look of the list value in bacon?"
   ]
  },
  {
   "cell_type": "code",
   "execution_count": 13,
   "id": "c018608c-aec6-40ff-a245-dfa5d949f9ab",
   "metadata": {},
   "outputs": [
    {
     "name": "stdout",
     "output_type": "stream",
     "text": [
      "[3.14, 'cat', 11, 'cat', True, 99]\n"
     ]
    }
   ],
   "source": [
    "bacon=[3.14,'cat',11,'cat',True]\n",
    "bacon.append(99)\n",
    "print(bacon)"
   ]
  },
  {
   "cell_type": "markdown",
   "id": "70098ffc-93af-476a-aa94-c6c0fbdcd1f5",
   "metadata": {},
   "source": [
    " 8. How does bacon.remove('cat') change the look of the list in bacon?"
   ]
  },
  {
   "cell_type": "code",
   "execution_count": 14,
   "id": "d0035156-2165-4cb2-a24c-425b056438fa",
   "metadata": {},
   "outputs": [
    {
     "name": "stdout",
     "output_type": "stream",
     "text": [
      "[3.14, 11, 'cat', True]\n"
     ]
    }
   ],
   "source": [
    "bacon=[3.14,'cat',11,'cat',True]\n",
    "bacon.remove('cat')\n",
    "print(bacon)"
   ]
  },
  {
   "cell_type": "markdown",
   "id": "0fc4480a-dfaa-419d-b420-05e3d3774cf9",
   "metadata": {},
   "source": [
    " 9. What are the list concatenation and list replication operators?"
   ]
  },
  {
   "cell_type": "markdown",
   "id": "6beb4158-105a-4cb6-93d8-23df8f09fb71",
   "metadata": {},
   "source": [
    "ans: The operator for list concatenation is '+' , while the operator for list replication is '*'\n",
    "     concatenation is used to join two lists and replication is used to repeat the list."
   ]
  },
  {
   "cell_type": "code",
   "execution_count": 2,
   "id": "9372247b-9e19-4993-b824-e0419e3e4cdc",
   "metadata": {},
   "outputs": [
    {
     "name": "stdout",
     "output_type": "stream",
     "text": [
      "[1, 2, 3, 'hi', 'hello', 'python']\n",
      "[1, 2, 3, 1, 2, 3, 1, 2, 3]\n"
     ]
    }
   ],
   "source": [
    "list1=[1,2,3]\n",
    "list2=['hi','hello','python']\n",
    "print(list1+list2)\n",
    "\n",
    "print(list1*3)"
   ]
  },
  {
   "cell_type": "markdown",
   "id": "8479b505-c952-4b77-bebc-89e42b002cc7",
   "metadata": {},
   "source": [
    " 10. What is difference between the list methods append() and insert()?"
   ]
  },
  {
   "cell_type": "markdown",
   "id": "726110d5-4c9d-4f62-90de-528be1723647",
   "metadata": {},
   "source": [
    "ans: append() is used to add an  item to the end of a list whereas insert() is used to add an item in the specified \n",
    "     position of a list.\n",
    "    "
   ]
  },
  {
   "cell_type": "code",
   "execution_count": 5,
   "id": "2216bf8d-9043-46f7-b078-9c21007ec5a4",
   "metadata": {},
   "outputs": [
    {
     "name": "stdout",
     "output_type": "stream",
     "text": [
      "[1, 2, 3, 4, 'hello']\n"
     ]
    }
   ],
   "source": [
    "list1=[1,2,3,4]\n",
    "list1.append('hello')\n",
    "print(list1)"
   ]
  },
  {
   "cell_type": "code",
   "execution_count": 6,
   "id": "3c265df3-9403-461d-892e-d40cda3cfaa5",
   "metadata": {},
   "outputs": [
    {
     "name": "stdout",
     "output_type": "stream",
     "text": [
      "[1, 'hi', 2, 3, 4]\n"
     ]
    }
   ],
   "source": [
    "list1=[1,2,3,4]\n",
    "list1.insert(1,'hi')\n",
    "print(list1)"
   ]
  },
  {
   "cell_type": "markdown",
   "id": "cca6b6b8-fd54-48ad-aedc-22bf929f691e",
   "metadata": {},
   "source": [
    " 11. What are the two methods for removing items from a list?"
   ]
  },
  {
   "cell_type": "markdown",
   "id": "6b14ec94-5c31-41d1-a6fa-5a6b42f79479",
   "metadata": {},
   "source": [
    "ans: remove() , pop() , del () are the methods for removing items from a list."
   ]
  },
  {
   "cell_type": "code",
   "execution_count": 7,
   "id": "333318b5-10a9-4573-b09a-45f97e185dd2",
   "metadata": {},
   "outputs": [
    {
     "name": "stdout",
     "output_type": "stream",
     "text": [
      "[1, 2, 3]\n"
     ]
    }
   ],
   "source": [
    "list1=[1,2,3,'hello']\n",
    "list1.remove('hello')\n",
    "print(list1)"
   ]
  },
  {
   "cell_type": "code",
   "execution_count": 8,
   "id": "f41164b4-8996-4c4d-9000-108b1ed8004e",
   "metadata": {},
   "outputs": [
    {
     "name": "stdout",
     "output_type": "stream",
     "text": [
      "[1, 3, 4]\n"
     ]
    }
   ],
   "source": [
    "list1=[1,2,3,4]\n",
    "list1.pop(1)\n",
    "print(list1)"
   ]
  },
  {
   "cell_type": "code",
   "execution_count": 9,
   "id": "dd6eed00-5afa-41b3-8d3e-dad6c7d84797",
   "metadata": {},
   "outputs": [
    {
     "name": "stdout",
     "output_type": "stream",
     "text": [
      "[1, 2, 4]\n"
     ]
    }
   ],
   "source": [
    "list1=[1,2,3,4]\n",
    "del list1[2]\n",
    "print(list1)"
   ]
  },
  {
   "cell_type": "markdown",
   "id": "d3afebee-bb4b-4176-9620-14ba908665df",
   "metadata": {},
   "source": [
    " 12. Describe how list values and string values are identical."
   ]
  },
  {
   "cell_type": "markdown",
   "id": "d20a40af-b58d-46fe-8c0f-39ee442e1db4",
   "metadata": {},
   "source": [
    "ans: Both lists ans strings have lengths. strings length is sequence of characters in a string whereas \n",
    "     lists length is no. of items in a list.Each item in a list and each character in a string has a position, \n",
    "     which is called an index."
   ]
  },
  {
   "cell_type": "code",
   "execution_count": 10,
   "id": "c0aea91c-005f-4d9c-ac50-d978e37cab49",
   "metadata": {},
   "outputs": [
    {
     "name": "stdout",
     "output_type": "stream",
     "text": [
      "3\n",
      "5\n"
     ]
    }
   ],
   "source": [
    "l=[3,4,6]\n",
    "print(len(l))\n",
    "\n",
    "s=\"hello\"\n",
    "print(len(s))"
   ]
  },
  {
   "cell_type": "markdown",
   "id": "679469bc-2cd8-4a9e-8d93-337c3ecdb87c",
   "metadata": {},
   "source": [
    " 13. What is the difference between tuples and lists?"
   ]
  },
  {
   "cell_type": "markdown",
   "id": "af8bd825-6957-4b59-8865-c7d4abbb5a1f",
   "metadata": {},
   "source": [
    "list: the elements in the list are enclosed in square brackets and are seperated by comma.\n",
    "      lists are mutable.\n",
    "    \n",
    "tuple: the elements in the tuple are enclosed in parenthesis and are seperated by comma.\n",
    "      tuples are immutable."
   ]
  },
  {
   "cell_type": "markdown",
   "id": "526b17ef-1019-4fa6-b7ae-2bac1febbde9",
   "metadata": {},
   "source": [
    " 14. How do you type a tuple value that only contains the integer 42?"
   ]
  },
  {
   "cell_type": "markdown",
   "id": "fd5c4506-892e-4c05-8765-092189243e6a",
   "metadata": {},
   "source": [
    "ans: (42,) the trailing comma is necessary"
   ]
  },
  {
   "cell_type": "markdown",
   "id": "19999ba0-84b7-470f-91ee-ba314b6b8ba2",
   "metadata": {},
   "source": [
    " 15. How do you get a list value&#39;s tuple form? How do you get a tuple value&#39;s list form?"
   ]
  },
  {
   "cell_type": "markdown",
   "id": "c5c37f87-ac77-4af0-b89f-c3c22926dd74",
   "metadata": {},
   "source": [
    "ans: we can convert the python list to tuple , by passing tuple() function. \n",
    "     it will return tuple data type as an output.\n",
    "     we can convert the python tuple to list , by passing list() function \n",
    "     it will return list data type as an output."
   ]
  },
  {
   "cell_type": "code",
   "execution_count": 12,
   "id": "33367c94-af02-4783-949f-a1245a18288a",
   "metadata": {},
   "outputs": [
    {
     "name": "stdout",
     "output_type": "stream",
     "text": [
      "(2, 4, 6)\n"
     ]
    }
   ],
   "source": [
    "list1=[2,4,6]\n",
    "tuple1=tuple(list1)\n",
    "print(tuple1)"
   ]
  },
  {
   "cell_type": "code",
   "execution_count": 13,
   "id": "de93813d-780c-4c95-a070-7355e19d44f1",
   "metadata": {},
   "outputs": [
    {
     "name": "stdout",
     "output_type": "stream",
     "text": [
      "[3, 4, 5, 6]\n"
     ]
    }
   ],
   "source": [
    "tup1=(3,4,5,6)\n",
    "list1=list(tup1)\n",
    "print(list1)"
   ]
  },
  {
   "cell_type": "markdown",
   "id": "6119361c-85de-421f-b6d4-04526e1b4f05",
   "metadata": {},
   "source": [
    " 16. Variables that contain list values are not necessarily lists themselves. Instead, what do they contain?\n"
   ]
  },
  {
   "cell_type": "markdown",
   "id": "2a6449f6-5562-4f18-b1d8-76e9bb905658",
   "metadata": {},
   "source": [
    "ans: Variables will contain references to list values rather than list values themselves. But for strings and integer values,\n",
    "     variables simply containthe string or integer value."
   ]
  },
  {
   "cell_type": "markdown",
   "id": "d9e44b89-c270-4089-9669-91b969a40e9d",
   "metadata": {},
   "source": [
    " 17. How do you distinguish between copy.copy() and copy.deepcopy()?"
   ]
  },
  {
   "cell_type": "markdown",
   "id": "a1cc71dd-cba1-4684-8613-97399ad50354",
   "metadata": {},
   "source": [
    "ans: copy() returns shallow copy of the list . deepcopy() returns deep copy of the list.\n",
    "     Both have the same values but different IDEs."
   ]
  }
 ],
 "metadata": {
  "kernelspec": {
   "display_name": "Python 3 (ipykernel)",
   "language": "python",
   "name": "python3"
  },
  "language_info": {
   "codemirror_mode": {
    "name": "ipython",
    "version": 3
   },
   "file_extension": ".py",
   "mimetype": "text/x-python",
   "name": "python",
   "nbconvert_exporter": "python",
   "pygments_lexer": "ipython3",
   "version": "3.10.6"
  }
 },
 "nbformat": 4,
 "nbformat_minor": 5
}
