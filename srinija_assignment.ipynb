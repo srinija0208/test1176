{
 "cells": [
  {
   "cell_type": "markdown",
   "id": "82999b72-309b-4be2-b666-b35aa44a7e40",
   "metadata": {},
   "source": [
    "1. In the below elements which of them are values or an expression? eg:- values can be\n",
    "integer or string and expressions will be mathematical operators.\n",
    "*; 39; hello;\n",
    "39; -87.8; -; /; +"
   ]
  },
  {
   "cell_type": "code",
   "execution_count": null,
   "id": "27faf329-11d4-498c-9617-244966dc725f",
   "metadata": {},
   "outputs": [],
   "source": [
    "ans: -87.8,6,hello,39  are values.\n",
    "      *,-,/,+ are expressions"
   ]
  },
  {
   "cell_type": "markdown",
   "id": "fce7c521-558f-47bb-ae3e-5f8c5be08b60",
   "metadata": {},
   "source": [
    "2. What is the difference between string and variable?"
   ]
  },
  {
   "cell_type": "code",
   "execution_count": null,
   "id": "67d78db4-45b6-42a1-a46c-8bc575d0badc",
   "metadata": {},
   "outputs": [],
   "source": [
    "ans: A string is a sequence of characters .A variable is a named placeholder to hold any type of data.\n",
    "     A string could be a variable whereas a variable is anything that one can assign different values to it."
   ]
  },
  {
   "cell_type": "markdown",
   "id": "e06ef6f0-c71d-4c43-b4ea-b095a4907876",
   "metadata": {},
   "source": [
    "3. Describe three different data types."
   ]
  },
  {
   "cell_type": "code",
   "execution_count": null,
   "id": "3e711c83-971c-40b1-a9a6-a68394c2b03f",
   "metadata": {},
   "outputs": [],
   "source": [
    "ans: 1. List: A list can contain different types of data. The items in list are seperated by comma\n",
    "     and enclosed within square bracket[].Lists are mutable.\n",
    "    ex: [1,'hello',3.5,2]\n",
    "    \n",
    "     2.Tuple: like lists, tuple can also cantain data of different types.Items are seperated by comma and \n",
    "        enclosed with parentheses().Tuples are immutable.\n",
    "    ex: ('hi',2,'python')\n",
    "    \n",
    "     3.Dictionary: It is an unordered set of a key-value pair of items where each key stores a specific value.\n",
    "        The items in dictionary are seperated by comma and enclosed in curly braces{}.\n",
    "    ex: {1 : 'john', 2:'mike' , 3:'alex'}\n",
    "        "
   ]
  },
  {
   "cell_type": "markdown",
   "id": "739568b2-c828-43d1-9bf0-87458237802a",
   "metadata": {},
   "source": [
    "4. What is an expression made up of? What do all expressions do?"
   ]
  },
  {
   "cell_type": "code",
   "execution_count": null,
   "id": "6a78636e-7602-4dfa-9a09-f119b6a2a257",
   "metadata": {},
   "outputs": [],
   "source": [
    "ans: In python an expression is a combination of both operands and operators.It is used as a logical line\n",
    "     of code that is evaluated to obtain some result.An operand is one that is operated on.Whereas \n",
    "     operator is a symbol that performs arithmetic or logical operations.\n",
    "        ex: x=5\n",
    "            a=x+2\n",
    "            print(a)\n",
    "            \n",
    "        \n",
    "        types of operators are +,-,*,/,<,>,%,^,==,!=,&,and,or,not,<=,>=,<<,>>,|,~\n"
   ]
  },
  {
   "cell_type": "markdown",
   "id": "74c03fc6-5e91-4b97-b849-0fd054b05744",
   "metadata": {},
   "source": [
    "5. This assignment statements, like spam = 10. What is the difference between an\n",
    "   expression and a statement?"
   ]
  },
  {
   "cell_type": "code",
   "execution_count": null,
   "id": "b2d4125b-0cc7-4697-939e-88568dd69033",
   "metadata": {},
   "outputs": [],
   "source": [
    "ans: Expressions can be assigned or used as operands whereas statements can only be declared.\n",
    "     statements are the whole strucute , while expressions are building blocks.( a line or block of code \n",
    "     is a statement)\n",
    "    \n",
    "    ex: spam=10\n",
    "         here spam,=,10 are expressions and altogether called a statement."
   ]
  },
  {
   "cell_type": "markdown",
   "id": "7f3a8bd1-b595-49e8-8c30-5d73a6d36728",
   "metadata": {},
   "source": [
    "6. After running the following code, what does the variable bacon contain?\n",
    "# bacon = 22\n",
    "# bacon + 1"
   ]
  },
  {
   "cell_type": "code",
   "execution_count": null,
   "id": "dac6a7b9-2d11-4754-85f6-fa22589b9501",
   "metadata": {},
   "outputs": [],
   "source": [
    "ans: bacon=22\n",
    "     bacon+=1\n",
    "    and the ans is 23"
   ]
  },
  {
   "cell_type": "markdown",
   "id": "852c06db-fe23-4df4-a59c-5cefe1263d70",
   "metadata": {},
   "source": [
    "7. What should the values of the following two terms be?\n",
    "'spam' + 'spamspam'\n",
    "'spam'*3"
   ]
  },
  {
   "cell_type": "code",
   "execution_count": null,
   "id": "e85df1ab-8eb6-4e30-8c12-51798d963c73",
   "metadata": {},
   "outputs": [],
   "source": [
    "ans: spam spamspam\n",
    "     \n",
    "     spam spam spam\n"
   ]
  },
  {
   "cell_type": "markdown",
   "id": "dbd41cb4-d6b9-4d77-a4c2-90099b4219be",
   "metadata": {},
   "source": [
    "8. Why is eggs a valid variable name while 100 is invalid?"
   ]
  },
  {
   "cell_type": "markdown",
   "id": "ba5fc490-a003-456e-95c4-a52546b88633",
   "metadata": {},
   "source": [
    "ans: A variable cannot start with a number but can start with any combination of numbers.\n"
   ]
  },
  {
   "cell_type": "markdown",
   "id": "2f8d7721-e30d-4b46-bd51-2ae8705eebad",
   "metadata": {},
   "source": [
    "9. What three functions can be used to get the integer, floating-point number, or string\n",
    "version of a value?"
   ]
  },
  {
   "cell_type": "code",
   "execution_count": null,
   "id": "af88574c-e37f-4b53-9c13-249e2fd46225",
   "metadata": {},
   "outputs": [],
   "source": [
    "ans: int(), float(), str()"
   ]
  },
  {
   "cell_type": "markdown",
   "id": "d5381e4b-bddd-447a-8221-0dea360f776a",
   "metadata": {},
   "source": [
    "10. Why does this expression cause an error? How can you fix it?\n",
    "#'I have eaten'  + 99 +  'burritos'"
   ]
  },
  {
   "cell_type": "code",
   "execution_count": null,
   "id": "5441c132-d376-454c-b4fc-6022b2150709",
   "metadata": {},
   "outputs": [],
   "source": [
    "ans: because 99 is an integer and we have to pass a string.\n",
    "     \n",
    "    'I have eaten'+ str(99)+ 'burritos'\n"
   ]
  }
 ],
 "metadata": {
  "kernelspec": {
   "display_name": "Python 3 (ipykernel)",
   "language": "python",
   "name": "python3"
  },
  "language_info": {
   "codemirror_mode": {
    "name": "ipython",
    "version": 3
   },
   "file_extension": ".py",
   "mimetype": "text/x-python",
   "name": "python",
   "nbconvert_exporter": "python",
   "pygments_lexer": "ipython3",
   "version": "3.10.6"
  }
 },
 "nbformat": 4,
 "nbformat_minor": 5
}
