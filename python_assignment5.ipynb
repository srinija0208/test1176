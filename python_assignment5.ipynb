{
 "cells": [
  {
   "cell_type": "markdown",
   "id": "1b9a93d1-3dc6-42a6-b2d0-93dc1dbc2bca",
   "metadata": {},
   "source": [
    "1. What does an empty dictionary code look like?"
   ]
  },
  {
   "cell_type": "markdown",
   "id": "37b94f96-4573-4afc-8484-0e5baa74d1af",
   "metadata": {},
   "source": [
    "An empty dictionary contains no keys and values in it.It looks like\n",
    "\n",
    "d1={ }"
   ]
  },
  {
   "cell_type": "markdown",
   "id": "b6725b75-7ef2-4fca-8a55-96387b40f13b",
   "metadata": {},
   "source": [
    "2. What is the value of a dictionary value with the key 'foo' and the value 42?"
   ]
  },
  {
   "cell_type": "code",
   "execution_count": null,
   "id": "a18ad650-6282-4496-9ffd-2cb719ce0c8e",
   "metadata": {},
   "outputs": [],
   "source": [
    "d1={'foo': 42}\n"
   ]
  },
  {
   "cell_type": "markdown",
   "id": "3e1870a8-93d3-419e-8691-55291e77cf13",
   "metadata": {},
   "source": [
    "3. What is the most significant distinction between a dictionary and a list?"
   ]
  },
  {
   "cell_type": "code",
   "execution_count": null,
   "id": "425fbced-8829-4d7a-8f08-cba414f076f7",
   "metadata": {},
   "outputs": [],
   "source": [
    "List : elements are ordered and are accessed using indices.\n",
    "\n",
    "Dictionary : elemets are unordered and are indexed using keys"
   ]
  },
  {
   "cell_type": "markdown",
   "id": "fb9f6926-b5f2-4977-a8cd-f2638acd7cd2",
   "metadata": {},
   "source": [
    "4. What happens if you try to access spam['foo'] if spam is {'bar': 100}?"
   ]
  },
  {
   "cell_type": "code",
   "execution_count": 19,
   "id": "538710ed-632b-4d2b-87e3-0ebe5c237446",
   "metadata": {},
   "outputs": [
    {
     "ename": "KeyError",
     "evalue": "'fool'",
     "output_type": "error",
     "traceback": [
      "\u001b[0;31m---------------------------------------------------------------------------\u001b[0m",
      "\u001b[0;31mKeyError\u001b[0m                                  Traceback (most recent call last)",
      "Cell \u001b[0;32mIn [19], line 4\u001b[0m\n\u001b[1;32m      1\u001b[0m \u001b[38;5;66;03m# we will get an error, keyerror\u001b[39;00m\n\u001b[1;32m      3\u001b[0m spam\u001b[38;5;241m=\u001b[39m{\u001b[38;5;124m'\u001b[39m\u001b[38;5;124mbar\u001b[39m\u001b[38;5;124m'\u001b[39m:\u001b[38;5;241m100\u001b[39m}\n\u001b[0;32m----> 4\u001b[0m \u001b[43mspam\u001b[49m\u001b[43m[\u001b[49m\u001b[38;5;124;43m'\u001b[39;49m\u001b[38;5;124;43mfool\u001b[39;49m\u001b[38;5;124;43m'\u001b[39;49m\u001b[43m]\u001b[49m\n",
      "\u001b[0;31mKeyError\u001b[0m: 'fool'"
     ]
    }
   ],
   "source": [
    "# we will get an error, keyerror\n",
    "\n",
    "spam={'bar':100}\n",
    "spam['fool']"
   ]
  },
  {
   "cell_type": "markdown",
   "id": "2adcb6bc-237c-44f3-b976-f6a24fb5cf1f",
   "metadata": {},
   "source": [
    "5. If a dictionary is stored in spam, what is the difference between the expressions 'cat' in spam and 'cat'\n",
    "   in spam.keys()?"
   ]
  },
  {
   "cell_type": "code",
   "execution_count": 15,
   "id": "f42d7306-ad11-4404-a23d-c99c2e5fd194",
   "metadata": {},
   "outputs": [
    {
     "data": {
      "text/plain": [
       "True"
      ]
     },
     "execution_count": 15,
     "metadata": {},
     "output_type": "execute_result"
    }
   ],
   "source": [
    "# There is no difference:\n",
    "\n",
    "# both 'cat' in spam and 'cat' in spam.keys checks whether 'cat' exists as a key.\n",
    "\n",
    "spam={'cat':301} # cat is a key\n",
    "'cat' in spam"
   ]
  },
  {
   "cell_type": "code",
   "execution_count": 16,
   "id": "5a465e09-28e4-40c1-bd01-4704196bdd08",
   "metadata": {},
   "outputs": [
    {
     "data": {
      "text/plain": [
       "True"
      ]
     },
     "execution_count": 16,
     "metadata": {},
     "output_type": "execute_result"
    }
   ],
   "source": [
    "spam={'cat':301} \n",
    "'cat' in spam.keys() # cat is a key\n"
   ]
  },
  {
   "cell_type": "markdown",
   "id": "2e03d261-5ff7-4c28-a8d2-b31da490cb4e",
   "metadata": {},
   "source": [
    "6. If a dictionary is stored in spam, what is the difference between the expressions 'cat'in spam and\n",
    "   'cat' in spam.values()?"
   ]
  },
  {
   "cell_type": "code",
   "execution_count": 12,
   "id": "4eddbed3-2584-4184-95db-83cd70dcf66f",
   "metadata": {},
   "outputs": [
    {
     "data": {
      "text/plain": [
       "True"
      ]
     },
     "execution_count": 12,
     "metadata": {},
     "output_type": "execute_result"
    }
   ],
   "source": [
    "# 'cat' in spam checks whether 'cat' is a key in spam.\n",
    "\n",
    "# 'cat' in spam.values() checks whether 'cat' is a value for one of the keys in spam.\n",
    "\n",
    "spam={'cat':301} # cat is a key\n",
    "'cat' in spam"
   ]
  },
  {
   "cell_type": "code",
   "execution_count": 14,
   "id": "c2b28712-73ff-4860-8ae5-14fd294ea276",
   "metadata": {},
   "outputs": [
    {
     "data": {
      "text/plain": [
       "False"
      ]
     },
     "execution_count": 14,
     "metadata": {},
     "output_type": "execute_result"
    }
   ],
   "source": [
    "spam={'cat':301} \n",
    "'cat' in spam.values() # cat is not a value"
   ]
  },
  {
   "cell_type": "markdown",
   "id": "35c0ac6e-6266-4733-bc0e-89258c2f4220",
   "metadata": {},
   "source": [
    "7. What is a shortcut for the following code?\n",
    "\n",
    "   if color not in spam:\n",
    "   \n",
    "   spam['color'] ='black' "
   ]
  },
  {
   "cell_type": "code",
   "execution_count": 17,
   "id": "85ad54e8-a75e-4a3a-9489-cd25448b1cd3",
   "metadata": {},
   "outputs": [
    {
     "name": "stdout",
     "output_type": "stream",
     "text": [
      "{'cat': 301, 'color': 'black'}\n"
     ]
    }
   ],
   "source": [
    "spam={'cat':301}\n",
    "spam.update({'color':'black'})\n",
    "print(spam)"
   ]
  },
  {
   "cell_type": "markdown",
   "id": "62e27c2b-92d4-4e24-a6f4-926e31b2dad1",
   "metadata": {},
   "source": [
    "8. How do you pretty print dictionary values using which module and function?"
   ]
  },
  {
   "cell_type": "markdown",
   "id": "979e34c8-85cc-430e-bdcf-5ada65b0d70a",
   "metadata": {},
   "source": [
    "The module used is the pprint within which we have the pprint function of the same name."
   ]
  },
  {
   "cell_type": "code",
   "execution_count": 22,
   "id": "f98fcee5-8057-41ca-9384-0bb2f00f8aad",
   "metadata": {},
   "outputs": [
    {
     "name": "stdout",
     "output_type": "stream",
     "text": [
      "{'country': 'India', 'name': 'Joe', 'roll no.': 'AOO30'}\n"
     ]
    }
   ],
   "source": [
    "# we import pprint module using 'import pprint'\n",
    "# the first'pprint' is to call the module\n",
    "# the second 'pretty print' is a function to call pretty print dict\n",
    "\n",
    "import pprint\n",
    "\n",
    "my_dict={'name':'Joe' , 'roll no.':'AOO30' , 'country':'India'}\n",
    "\n",
    "pretty=pprint.pprint(my_dict)\n",
    "\n",
    "# here key values are printed in reverse order"
   ]
  },
  {
   "cell_type": "code",
   "execution_count": 23,
   "id": "4aacda5a-42be-4d37-9daa-64015851a780",
   "metadata": {},
   "outputs": [
    {
     "name": "stdout",
     "output_type": "stream",
     "text": [
      "{'name': 'Joe', 'roll no.': 'AOO30', 'country': 'India'}\n"
     ]
    }
   ],
   "source": [
    "# printing using print \n",
    "\n",
    "print(my_dict)"
   ]
  },
  {
   "cell_type": "code",
   "execution_count": null,
   "id": "256bc163-af56-498c-bae6-da014a315f5e",
   "metadata": {},
   "outputs": [],
   "source": []
  }
 ],
 "metadata": {
  "kernelspec": {
   "display_name": "Python 3 (ipykernel)",
   "language": "python",
   "name": "python3"
  },
  "language_info": {
   "codemirror_mode": {
    "name": "ipython",
    "version": 3
   },
   "file_extension": ".py",
   "mimetype": "text/x-python",
   "name": "python",
   "nbconvert_exporter": "python",
   "pygments_lexer": "ipython3",
   "version": "3.10.6"
  }
 },
 "nbformat": 4,
 "nbformat_minor": 5
}
